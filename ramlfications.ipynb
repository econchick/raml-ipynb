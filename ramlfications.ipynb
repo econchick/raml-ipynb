{
 "cells": [
  {
   "cell_type": "markdown",
   "metadata": {
    "slideshow": {
     "slide_type": "slide"
    }
   },
   "source": [
    "# RAMLfications\n",
    "\n",
    "### Lynn Root\n",
    "### Backend Engineer @ Spotify\n",
    "### @roguelynn"
   ]
  },
  {
   "cell_type": "markdown",
   "metadata": {
    "slideshow": {
     "slide_type": "slide"
    }
   },
   "source": [
    "# What Is RAML?\n",
    "\n",
    "RAML stands for RESTful API Modeling Language. \n",
    "\n",
    "Very similar to Swagger and Blueprint, it's used to describe REST APIs."
   ]
  },
  {
   "cell_type": "markdown",
   "metadata": {
    "slideshow": {
     "slide_type": "subslide"
    }
   },
   "source": [
    "What it looks like:\n",
    "\n",
    "```yaml\n",
    "#%RAML 0.8\n",
    "title: Spotify Web API\n",
    "version: v1\n",
    "baseUri: https://api.spotify.com/{version}\n",
    "mediaType: application/json\n",
    "documentation:\n",
    "  - title: Spotify Web API Docs\n",
    "    content: |\n",
    "      Welcome to the _Spotify Web API_ specification. For more information about\n",
    "      how to use the API, check out [developer site](https://developer.spotify.com/web-api/).\n",
    "/albums:\n",
    "  displayName: several-albums\n",
    "  get:\n",
    "    description: |\n",
    "      [Get Several Albums](https://developer.spotify.com/web-api/get-several-albums/)\n",
    "    queryParameters:\n",
    "      ids:\n",
    "        displayName: Spotify Album IDs\n",
    "        type: string\n",
    "        description: A comma-separated list of IDs\n",
    "        required: true\n",
    "        example: \"382ObEPsp2rxGrnsizN5TX,1A2GTWGtFfWp7KSQTwWOyo,2noRn2Aes5aoNVsU6iWThc\"\n",
    "      market:\n",
    "        displayName: Market\n",
    "        description: The market (an ISO 3166-1 alpha-2 country code)\n",
    "        type: string\n",
    "        example: ES\n",
    "        required: false\n",
    "    responses:\n",
    "      200:\n",
    "        body:\n",
    "          application/json:\n",
    "            example: !include example/get-albums-example.json  \n",
    "        \n",
    "```"
   ]
  },
  {
   "cell_type": "markdown",
   "metadata": {
    "collapsed": false,
    "slideshow": {
     "slide_type": "slide"
    }
   },
   "source": [
    "# Why?"
   ]
  },
  {
   "cell_type": "markdown",
   "metadata": {
    "slideshow": {
     "slide_type": "subslide"
    }
   },
   "source": [
    "## Why a description language for your API?"
   ]
  },
  {
   "cell_type": "markdown",
   "metadata": {
    "slideshow": {
     "slide_type": "fragment"
    }
   },
   "source": [
    "* Have a single source-of-truth reference for your API"
   ]
  },
  {
   "cell_type": "markdown",
   "metadata": {
    "slideshow": {
     "slide_type": "fragment"
    }
   },
   "source": [
    "* Machine & human-ish readable"
   ]
  },
  {
   "cell_type": "markdown",
   "metadata": {
    "slideshow": {
     "slide_type": "fragment"
    }
   },
   "source": [
    "* Clear definition of own versioned API specification"
   ]
  },
  {
   "cell_type": "markdown",
   "metadata": {
    "slideshow": {
     "slide_type": "subslide"
    }
   },
   "source": [
    "## Why RAML?"
   ]
  },
  {
   "cell_type": "markdown",
   "metadata": {
    "slideshow": {
     "slide_type": "fragment"
    }
   },
   "source": [
    "* not limited to describing in JSON (Swagger only supports JSON Schema)"
   ]
  },
  {
   "cell_type": "markdown",
   "metadata": {
    "slideshow": {
     "slide_type": "fragment"
    }
   },
   "source": [
    "* Can support different API versioning (Blueprint can as well)"
   ]
  },
  {
   "cell_type": "markdown",
   "metadata": {
    "slideshow": {
     "slide_type": "fragment"
    }
   },
   "source": [
    "* Include sample representations (Blueprint can as well)"
   ]
  },
  {
   "cell_type": "markdown",
   "metadata": {
    "slideshow": {
     "slide_type": "fragment"
    }
   },
   "source": [
    "* Allows for including of external files from either local filesystem or via an HTTP request - no need for one massive `.raml` file (Neither Swagger nor Blueprints supports this)"
   ]
  },
  {
   "cell_type": "markdown",
   "metadata": {
    "slideshow": {
     "slide_type": "fragment"
    }
   },
   "source": [
    "* It's not WADL"
   ]
  },
  {
   "cell_type": "markdown",
   "metadata": {
    "slideshow": {
     "slide_type": "subslide"
    }
   },
   "source": [
    "## Why did Spotify choose RAML"
   ]
  },
  {
   "cell_type": "markdown",
   "metadata": {
    "slideshow": {
     "slide_type": "fragment"
    }
   },
   "source": [
    "* \"new kid on the block\" & very active development - also means it's very young"
   ]
  },
  {
   "cell_type": "markdown",
   "metadata": {
    "slideshow": {
     "slide_type": "fragment"
    }
   },
   "source": [
    "* more readable from our PoV\n",
    "    * actual syntax & file structure\n",
    "    * external file inclusions "
   ]
  },
  {
   "cell_type": "markdown",
   "metadata": {
    "slideshow": {
     "slide_type": "fragment"
    }
   },
   "source": [
    "* open-source spec"
   ]
  },
  {
   "cell_type": "markdown",
   "metadata": {
    "slideshow": {
     "slide_type": "slide"
    }
   },
   "source": [
    "# Setting the scene"
   ]
  },
  {
   "cell_type": "markdown",
   "metadata": {
    "slideshow": {
     "slide_type": "fragment"
    }
   },
   "source": [
    "### I hated answering repeated questions"
   ]
  },
  {
   "cell_type": "markdown",
   "metadata": {
    "slideshow": {
     "slide_type": "fragment"
    }
   },
   "source": [
    "### So I built a thing"
   ]
  },
  {
   "cell_type": "markdown",
   "metadata": {
    "slideshow": {
     "slide_type": "fragment"
    }
   },
   "source": [
    "### It takes our RAML file"
   ]
  },
  {
   "cell_type": "markdown",
   "metadata": {
    "slideshow": {
     "slide_type": "fragment"
    }
   },
   "source": [
    "### And makes an interactive console"
   ]
  },
  {
   "cell_type": "code",
   "execution_count": 3,
   "metadata": {
    "collapsed": true,
    "slideshow": {
     "slide_type": "skip"
    }
   },
   "outputs": [],
   "source": [
    "from IPython.display import Image"
   ]
  },
  {
   "cell_type": "code",
   "execution_count": 4,
   "metadata": {
    "collapsed": false,
    "slideshow": {
     "slide_type": "subslide"
    }
   },
   "outputs": [
    {
     "data": {
      "image/png": "[encoded data removed]",
      "text/plain": [
       "<IPython.core.display.Image object>"
      ]
     },
     "execution_count": 4,
     "metadata": {},
     "output_type": "execute_result"
    }
   ],
   "source": [
    "Image(filename='api-console-snapshot.png')"
   ]
  },
  {
   "cell_type": "code",
   "execution_count": 6,
   "metadata": {
    "collapsed": false,
    "slideshow": {
     "slide_type": "subslide"
    }
   },
   "outputs": [
    {
     "data": {
      "image/png": "[encoded data removed]",
      "text/plain": [
       "<IPython.core.display.Image object>"
      ]
     },
     "execution_count": 6,
     "metadata": {},
     "output_type": "execute_result"
    }
   ],
   "source": [
    "Image(filename='api-console-snapshot-resp.png')"
   ]
  },
  {
   "cell_type": "markdown",
   "metadata": {
    "slideshow": {
     "slide_type": "slide"
    }
   },
   "source": [
    "# enter: RAMLfications\n",
    "\n",
    "### TL;DR: Python reference implementation for RAML"
   ]
  },
  {
   "cell_type": "markdown",
   "metadata": {
    "slideshow": {
     "slide_type": "subslide"
    }
   },
   "source": [
    "Let's play:\n",
    "\n",
    "```bash\n",
    "$ pip install ramlfications\n",
    "```\n"
   ]
  },
  {
   "cell_type": "code",
   "execution_count": 7,
   "metadata": {
    "collapsed": false,
    "slideshow": {
     "slide_type": "skip"
    }
   },
   "outputs": [
    {
     "name": "stdout",
     "output_type": "stream",
     "text": [
      "Downloading/unpacking ramlfications\n",
      "  Downloading ramlfications-0.1.2-py2.py3-none-any.whl\n",
      "Downloading/unpacking click (from ramlfications)\n",
      "  Downloading click-4.0-py2.py3-none-any.whl (62kB): 62kB downloaded\n",
      "Downloading/unpacking six (from ramlfications)\n",
      "  Downloading six-1.9.0-py2.py3-none-any.whl\n",
      "Downloading/unpacking termcolor (from ramlfications)\n",
      "  Downloading termcolor-1.1.0.tar.gz\n",
      "  Running setup.py (path:/Users/lynnroot/.virtualenvs/raml-lt/build/termcolor/setup.py) egg_info for package termcolor\n",
      "    \n",
      "Downloading/unpacking markdown2 (from ramlfications)\n",
      "  Downloading markdown2-2.3.0.zip (145kB): 145kB downloaded\n",
      "  Running setup.py (path:/Users/lynnroot/.virtualenvs/raml-lt/build/markdown2/setup.py) egg_info for package markdown2\n",
      "    \n",
      "Downloading/unpacking xmltodict (from ramlfications)\n",
      "  Downloading xmltodict-0.9.2.tar.gz\n",
      "  Running setup.py (path:/Users/lynnroot/.virtualenvs/raml-lt/build/xmltodict/setup.py) egg_info for package xmltodict\n",
      "    \n",
      "Downloading/unpacking pyyaml (from ramlfications)\n",
      "  Downloading PyYAML-3.11.tar.gz (248kB): 248kB downloaded\n",
      "  Running setup.py (path:/Users/lynnroot/.virtualenvs/raml-lt/build/pyyaml/setup.py) egg_info for package pyyaml\n",
      "    \n",
      "Downloading/unpacking attrs (from ramlfications)\n",
      "  Downloading attrs-15.0.0-py2-none-any.whl\n",
      "Installing collected packages: ramlfications, click, six, termcolor, markdown2, xmltodict, pyyaml, attrs\n",
      "  Running setup.py install for termcolor\n",
      "    \n",
      "  Running setup.py install for markdown2\n",
      "    changing mode of build/scripts-2.7/markdown2 from 644 to 755\n",
      "    \n",
      "    changing mode of /Users/lynnroot/.virtualenvs/raml-lt/bin/markdown2 to 755\n",
      "  Running setup.py install for xmltodict\n",
      "    \n",
      "  Running setup.py install for pyyaml\n",
      "    checking if libyaml is compilable\n",
      "    gcc -fno-strict-aliasing -g -O2 -DNDEBUG -g -fwrapv -O3 -Wall -Wstrict-prototypes -I/Users/lynnroot/.pyenv/versions/2.7.8/include/python2.7 -c build/temp.macosx-10.4-x86_64-2.7/check_libyaml.c -o build/temp.macosx-10.4-x86_64-2.7/check_libyaml.o\n",
      "    checking if libyaml is linkable\n",
      "    gcc build/temp.macosx-10.4-x86_64-2.7/check_libyaml.o -lyaml -o build/temp.macosx-10.4-x86_64-2.7/check_libyaml\n",
      "    building '_yaml' extension\n",
      "    gcc -fno-strict-aliasing -g -O2 -DNDEBUG -g -fwrapv -O3 -Wall -Wstrict-prototypes -I/Users/lynnroot/.pyenv/versions/2.7.8/include/python2.7 -c ext/_yaml.c -o build/temp.macosx-10.4-x86_64-2.7/ext/_yaml.o\n",
      "    In file included from ext/_yaml.c:343:\n",
      "    ext/_yaml.h:6:9: warning: 'PyUnicode_FromString' macro redefined [-Wmacro-redefined]\n",
      "    #define PyUnicode_FromString(s) PyUnicode_DecodeUTF8((s), strlen(s), \"strict\")\n",
      "            ^\n",
      "    /Users/lynnroot/.pyenv/versions/2.7.8/include/python2.7/unicodeobject.h:194:10: note: previous definition is here\n",
      "    # define PyUnicode_FromString PyUnicodeUCS2_FromString\n",
      "             ^\n",
      "    ext/_yaml.c:1346:17: warning: assigning to 'char *' from 'const char *' discards qualifiers [-Wincompatible-pointer-types-discards-qualifiers]\n",
      "      __pyx_v_value = yaml_get_version_string();\n",
      "                    ^ ~~~~~~~~~~~~~~~~~~~~~~~~~\n",
      "    ext/_yaml.c:2471:52: warning: incompatible pointer types passing 'int (void *, char *, int, int *)' to parameter of type 'yaml_read_handler_t *' (aka 'int (*)(void *, unsigned char *, size_t, size_t *)') [-Wincompatible-pointer-types]\n",
      "        yaml_parser_set_input((&__pyx_v_self->parser), __pyx_f_5_yaml_input_handler, ((void *)__pyx_v_self));\n",
      "                                                       ^~~~~~~~~~~~~~~~~~~~~~~~~~~~\n",
      "    /usr/local/include/yaml.h:1368:30: note: passing argument to parameter 'handler' here\n",
      "            yaml_read_handler_t *handler, void *data);\n",
      "                                 ^\n",
      "    ext/_yaml.c:2664:59: warning: passing 'char [1]' to parameter of type 'const unsigned char *' converts between pointers to integer types with different sign [-Wpointer-sign]\n",
      "        yaml_parser_set_input_string((&__pyx_v_self->parser), PyString_AS_STRING(__pyx_v_stream), PyString_GET_SIZE(__pyx_v_stream));\n",
      "                                                              ^~~~~~~~~~~~~~~~~~~~~~~~~~~~~~~~~~\n",
      "    /Users/lynnroot/.pyenv/versions/2.7.8/include/python2.7/stringobject.h:91:32: note: expanded from macro 'PyString_AS_STRING'\n",
      "    #define PyString_AS_STRING(op) (((PyStringObject *)(op))->ob_sval)\n",
      "                                   ^~~~~~~~~~~~~~~~~~~~~~~~~~~~~~~~~~~\n",
      "    /usr/local/include/yaml.h:1342:30: note: passing argument to parameter 'input' here\n",
      "            const unsigned char *input, size_t size);\n",
      "                                 ^\n",
      "    ext/_yaml.c:4183:38: warning: passing 'yaml_char_t *' (aka 'unsigned char *') to parameter of type 'const char *' converts between pointers to integer types with different sign [-Wpointer-sign]\n",
      "        __pyx_t_3 = PyUnicode_FromString(__pyx_v_token->data.tag_directive.handle); if (unlikely(!__pyx_t_3)) {__pyx_filename = __pyx_f[0]; __pyx_lineno = 417; __pyx_clineno = __LINE__; goto __pyx_L1_error;}\n",
      "                                         ^~~~~~~~~~~~~~~~~~~~~~~~~~~~~~~~~~~~~~~~\n",
      "    ext/_yaml.h:6:66: note: expanded from macro 'PyUnicode_FromString'\n",
      "    #define PyUnicode_FromString(s) PyUnicode_DecodeUTF8((s), strlen(s), \"strict\")\n",
      "                                                                     ^\n",
      "    /usr/include/string.h:82:28: note: passing argument to parameter here\n",
      "    size_t   strlen(const char *);\n",
      "                                ^\n",
      "    ext/_yaml.c:4183:17: warning: passing 'yaml_char_t *' (aka 'unsigned char *') to parameter of type 'const char *' converts between pointers to integer types with different sign [-Wpointer-sign]\n",
      "        __pyx_t_3 = PyUnicode_FromString(__pyx_v_token->data.tag_directive.handle); if (unlikely(!__pyx_t_3)) {__pyx_filename = __pyx_f[0]; __pyx_lineno = 417; __pyx_clineno = __LINE__; goto __pyx_L1_error;}\n",
      "                    ^~~~~~~~~~~~~~~~~~~~~~~~~~~~~~~~~~~~~~~~~~~~~~~~~~~~~~~~~~~~~~\n",
      "    ext/_yaml.h:6:54: note: expanded from macro 'PyUnicode_FromString'\n",
      "    #define PyUnicode_FromString(s) PyUnicode_DecodeUTF8((s), strlen(s), \"strict\")\n",
      "                                                         ^~~\n",
      "    /Users/lynnroot/.pyenv/versions/2.7.8/include/python2.7/unicodeobject.h:751:17: note: passing argument to parameter 'string' here\n",
      "        const char *string,         /* UTF-8 encoded string */\n",
      "                    ^\n",
      "    ext/_yaml.c:4195:38: warning: passing 'yaml_char_t *' (aka 'unsigned char *') to parameter of type 'const char *' converts between pointers to integer types with different sign [-Wpointer-sign]\n",
      "        __pyx_t_3 = PyUnicode_FromString(__pyx_v_token->data.tag_directive.prefix); if (unlikely(!__pyx_t_3)) {__pyx_filename = __pyx_f[0]; __pyx_lineno = 418; __pyx_clineno = __LINE__; goto __pyx_L1_error;}\n",
      "                                         ^~~~~~~~~~~~~~~~~~~~~~~~~~~~~~~~~~~~~~~~\n",
      "    ext/_yaml.h:6:66: note: expanded from macro 'PyUnicode_FromString'\n",
      "    #define PyUnicode_FromString(s) PyUnicode_DecodeUTF8((s), strlen(s), \"strict\")\n",
      "                                                                     ^\n",
      "    /usr/include/string.h:82:28: note: passing argument to parameter here\n",
      "    size_t   strlen(const char *);\n",
      "                                ^\n",
      "    ext/_yaml.c:4195:17: warning: passing 'yaml_char_t *' (aka 'unsigned char *') to parameter of type 'const char *' converts between pointers to integer types with different sign [-Wpointer-sign]\n",
      "        __pyx_t_3 = PyUnicode_FromString(__pyx_v_token->data.tag_directive.prefix); if (unlikely(!__pyx_t_3)) {__pyx_filename = __pyx_f[0]; __pyx_lineno = 418; __pyx_clineno = __LINE__; goto __pyx_L1_error;}\n",
      "                    ^~~~~~~~~~~~~~~~~~~~~~~~~~~~~~~~~~~~~~~~~~~~~~~~~~~~~~~~~~~~~~\n",
      "    ext/_yaml.h:6:54: note: expanded from macro 'PyUnicode_FromString'\n",
      "    #define PyUnicode_FromString(s) PyUnicode_DecodeUTF8((s), strlen(s), \"strict\")\n",
      "                                                         ^~~\n",
      "    /Users/lynnroot/.pyenv/versions/2.7.8/include/python2.7/unicodeobject.h:751:17: note: passing argument to parameter 'string' here\n",
      "        const char *string,         /* UTF-8 encoded string */\n",
      "                    ^\n",
      "    ext/_yaml.c:4741:38: warning: passing 'yaml_char_t *' (aka 'unsigned char *') to parameter of type 'const char *' converts between pointers to integer types with different sign [-Wpointer-sign]\n",
      "        __pyx_t_3 = PyUnicode_FromString(__pyx_v_token->data.alias.value); if (unlikely(!__pyx_t_3)) {__pyx_filename = __pyx_f[0]; __pyx_lineno = 448; __pyx_clineno = __LINE__; goto __pyx_L1_error;}\n",
      "                                         ^~~~~~~~~~~~~~~~~~~~~~~~~~~~~~~\n",
      "    ext/_yaml.h:6:66: note: expanded from macro 'PyUnicode_FromString'\n",
      "    #define PyUnicode_FromString(s) PyUnicode_DecodeUTF8((s), strlen(s), \"strict\")\n",
      "                                                                     ^\n",
      "    /usr/include/string.h:82:28: note: passing argument to parameter here\n",
      "    size_t   strlen(const char *);\n",
      "                                ^\n",
      "    ext/_yaml.c:4741:17: warning: passing 'yaml_char_t *' (aka 'unsigned char *') to parameter of type 'const char *' converts between pointers to integer types with different sign [-Wpointer-sign]\n",
      "        __pyx_t_3 = PyUnicode_FromString(__pyx_v_token->data.alias.value); if (unlikely(!__pyx_t_3)) {__pyx_filename = __pyx_f[0]; __pyx_lineno = 448; __pyx_clineno = __LINE__; goto __pyx_L1_error;}\n",
      "                    ^~~~~~~~~~~~~~~~~~~~~~~~~~~~~~~~~~~~~~~~~~~~~~~~~~~~~\n",
      "    ext/_yaml.h:6:54: note: expanded from macro 'PyUnicode_FromString'\n",
      "    #define PyUnicode_FromString(s) PyUnicode_DecodeUTF8((s), strlen(s), \"strict\")\n",
      "                                                         ^~~\n",
      "    /Users/lynnroot/.pyenv/versions/2.7.8/include/python2.7/unicodeobject.h:751:17: note: passing argument to parameter 'string' here\n",
      "        const char *string,         /* UTF-8 encoded string */\n",
      "                    ^\n",
      "    ext/_yaml.c:4792:38: warning: passing 'yaml_char_t *' (aka 'unsigned char *') to parameter of type 'const char *' converts between pointers to integer types with different sign [-Wpointer-sign]\n",
      "        __pyx_t_4 = PyUnicode_FromString(__pyx_v_token->data.anchor.value); if (unlikely(!__pyx_t_4)) {__pyx_filename = __pyx_f[0]; __pyx_lineno = 451; __pyx_clineno = __LINE__; goto __pyx_L1_error;}\n",
      "                                         ^~~~~~~~~~~~~~~~~~~~~~~~~~~~~~~~\n",
      "    ext/_yaml.h:6:66: note: expanded from macro 'PyUnicode_FromString'\n",
      "    #define PyUnicode_FromString(s) PyUnicode_DecodeUTF8((s), strlen(s), \"strict\")\n",
      "                                                                     ^\n",
      "    /usr/include/string.h:82:28: note: passing argument to parameter here\n",
      "    size_t   strlen(const char *);\n",
      "                                ^\n",
      "    ext/_yaml.c:4792:17: warning: passing 'yaml_char_t *' (aka 'unsigned char *') to parameter of type 'const char *' converts between pointers to integer types with different sign [-Wpointer-sign]\n",
      "        __pyx_t_4 = PyUnicode_FromString(__pyx_v_token->data.anchor.value); if (unlikely(!__pyx_t_4)) {__pyx_filename = __pyx_f[0]; __pyx_lineno = 451; __pyx_clineno = __LINE__; goto __pyx_L1_error;}\n",
      "                    ^~~~~~~~~~~~~~~~~~~~~~~~~~~~~~~~~~~~~~~~~~~~~~~~~~~~~~\n",
      "    ext/_yaml.h:6:54: note: expanded from macro 'PyUnicode_FromString'\n",
      "    #define PyUnicode_FromString(s) PyUnicode_DecodeUTF8((s), strlen(s), \"strict\")\n",
      "                                                         ^~~\n",
      "    /Users/lynnroot/.pyenv/versions/2.7.8/include/python2.7/unicodeobject.h:751:17: note: passing argument to parameter 'string' here\n",
      "        const char *string,         /* UTF-8 encoded string */\n",
      "                    ^\n",
      "    ext/_yaml.c:4843:38: warning: passing 'yaml_char_t *' (aka 'unsigned char *') to parameter of type 'const char *' converts between pointers to integer types with different sign [-Wpointer-sign]\n",
      "        __pyx_t_3 = PyUnicode_FromString(__pyx_v_token->data.tag.handle); if (unlikely(!__pyx_t_3)) {__pyx_filename = __pyx_f[0]; __pyx_lineno = 454; __pyx_clineno = __LINE__; goto __pyx_L1_error;}\n",
      "                                         ^~~~~~~~~~~~~~~~~~~~~~~~~~~~~~\n",
      "    ext/_yaml.h:6:66: note: expanded from macro 'PyUnicode_FromString'\n",
      "    #define PyUnicode_FromString(s) PyUnicode_DecodeUTF8((s), strlen(s), \"strict\")\n",
      "                                                                     ^\n",
      "    /usr/include/string.h:82:28: note: passing argument to parameter here\n",
      "    size_t   strlen(const char *);\n",
      "                                ^\n",
      "    ext/_yaml.c:4843:17: warning: passing 'yaml_char_t *' (aka 'unsigned char *') to parameter of type 'const char *' converts between pointers to integer types with different sign [-Wpointer-sign]\n",
      "        __pyx_t_3 = PyUnicode_FromString(__pyx_v_token->data.tag.handle); if (unlikely(!__pyx_t_3)) {__pyx_filename = __pyx_f[0]; __pyx_lineno = 454; __pyx_clineno = __LINE__; goto __pyx_L1_error;}\n",
      "                    ^~~~~~~~~~~~~~~~~~~~~~~~~~~~~~~~~~~~~~~~~~~~~~~~~~~~\n",
      "    ext/_yaml.h:6:54: note: expanded from macro 'PyUnicode_FromString'\n",
      "    #define PyUnicode_FromString(s) PyUnicode_DecodeUTF8((s), strlen(s), \"strict\")\n",
      "                                                         ^~~\n",
      "    /Users/lynnroot/.pyenv/versions/2.7.8/include/python2.7/unicodeobject.h:751:17: note: passing argument to parameter 'string' here\n",
      "        const char *string,         /* UTF-8 encoded string */\n",
      "                    ^\n",
      "    ext/_yaml.c:4855:38: warning: passing 'yaml_char_t *' (aka 'unsigned char *') to parameter of type 'const char *' converts between pointers to integer types with different sign [-Wpointer-sign]\n",
      "        __pyx_t_3 = PyUnicode_FromString(__pyx_v_token->data.tag.suffix); if (unlikely(!__pyx_t_3)) {__pyx_filename = __pyx_f[0]; __pyx_lineno = 455; __pyx_clineno = __LINE__; goto __pyx_L1_error;}\n",
      "                                         ^~~~~~~~~~~~~~~~~~~~~~~~~~~~~~\n",
      "    ext/_yaml.h:6:66: note: expanded from macro 'PyUnicode_FromString'\n",
      "    #define PyUnicode_FromString(s) PyUnicode_DecodeUTF8((s), strlen(s), \"strict\")\n",
      "                                                                     ^\n",
      "    /usr/include/string.h:82:28: note: passing argument to parameter here\n",
      "    size_t   strlen(const char *);\n",
      "                                ^\n",
      "    ext/_yaml.c:4855:17: warning: passing 'yaml_char_t *' (aka 'unsigned char *') to parameter of type 'const char *' converts between pointers to integer types with different sign [-Wpointer-sign]\n",
      "        __pyx_t_3 = PyUnicode_FromString(__pyx_v_token->data.tag.suffix); if (unlikely(!__pyx_t_3)) {__pyx_filename = __pyx_f[0]; __pyx_lineno = 455; __pyx_clineno = __LINE__; goto __pyx_L1_error;}\n",
      "                    ^~~~~~~~~~~~~~~~~~~~~~~~~~~~~~~~~~~~~~~~~~~~~~~~~~~~\n",
      "    ext/_yaml.h:6:54: note: expanded from macro 'PyUnicode_FromString'\n",
      "    #define PyUnicode_FromString(s) PyUnicode_DecodeUTF8((s), strlen(s), \"strict\")\n",
      "                                                         ^~~\n",
      "    /Users/lynnroot/.pyenv/versions/2.7.8/include/python2.7/unicodeobject.h:751:17: note: passing argument to parameter 'string' here\n",
      "        const char *string,         /* UTF-8 encoded string */\n",
      "                    ^\n",
      "    ext/_yaml.c:4938:38: warning: passing 'yaml_char_t *' (aka 'unsigned char *') to parameter of type 'const char *' converts between pointers to integer types with different sign [-Wpointer-sign]\n",
      "        __pyx_t_2 = PyUnicode_DecodeUTF8(__pyx_v_token->data.scalar.value, __pyx_v_token->data.scalar.length, __pyx_k_strict); if (unlikely(!__pyx_t_2)) {__pyx_filename = __pyx_f[0]; __pyx_lineno = 460; __pyx_clineno = __LINE__; goto __pyx_L1_error;}\n",
      "                                         ^~~~~~~~~~~~~~~~~~~~~~~~~~~~~~~~\n",
      "    /Users/lynnroot/.pyenv/versions/2.7.8/include/python2.7/unicodeobject.h:751:17: note: passing argument to parameter 'string' here\n",
      "        const char *string,         /* UTF-8 encoded string */\n",
      "                    ^\n",
      "    ext/_yaml.c:6435:42: warning: passing 'yaml_char_t *' (aka 'unsigned char *') to parameter of type 'const char *' converts between pointers to integer types with different sign [-Wpointer-sign]\n",
      "            __pyx_t_4 = PyUnicode_FromString(__pyx_v_tag_directive->handle); if (unlikely(!__pyx_t_4)) {__pyx_filename = __pyx_f[0]; __pyx_lineno = 574; __pyx_clineno = __LINE__; goto __pyx_L1_error;}\n",
      "                                             ^~~~~~~~~~~~~~~~~~~~~~~~~~~~~\n",
      "    ext/_yaml.h:6:66: note: expanded from macro 'PyUnicode_FromString'\n",
      "    #define PyUnicode_FromString(s) PyUnicode_DecodeUTF8((s), strlen(s), \"strict\")\n",
      "                                                                     ^\n",
      "    /usr/include/string.h:82:28: note: passing argument to parameter here\n",
      "    size_t   strlen(const char *);\n",
      "                                ^\n",
      "    ext/_yaml.c:6435:21: warning: passing 'yaml_char_t *' (aka 'unsigned char *') to parameter of type 'const char *' converts between pointers to integer types with different sign [-Wpointer-sign]\n",
      "            __pyx_t_4 = PyUnicode_FromString(__pyx_v_tag_directive->handle); if (unlikely(!__pyx_t_4)) {__pyx_filename = __pyx_f[0]; __pyx_lineno = 574; __pyx_clineno = __LINE__; goto __pyx_L1_error;}\n",
      "                        ^~~~~~~~~~~~~~~~~~~~~~~~~~~~~~~~~~~~~~~~~~~~~~~~~~~\n",
      "    ext/_yaml.h:6:54: note: expanded from macro 'PyUnicode_FromString'\n",
      "    #define PyUnicode_FromString(s) PyUnicode_DecodeUTF8((s), strlen(s), \"strict\")\n",
      "                                                         ^~~\n",
      "    /Users/lynnroot/.pyenv/versions/2.7.8/include/python2.7/unicodeobject.h:751:17: note: passing argument to parameter 'string' here\n",
      "        const char *string,         /* UTF-8 encoded string */\n",
      "                    ^\n",
      "    ext/_yaml.c:6447:42: warning: passing 'yaml_char_t *' (aka 'unsigned char *') to parameter of type 'const char *' converts between pointers to integer types with different sign [-Wpointer-sign]\n",
      "            __pyx_t_4 = PyUnicode_FromString(__pyx_v_tag_directive->prefix); if (unlikely(!__pyx_t_4)) {__pyx_filename = __pyx_f[0]; __pyx_lineno = 575; __pyx_clineno = __LINE__; goto __pyx_L1_error;}\n",
      "                                             ^~~~~~~~~~~~~~~~~~~~~~~~~~~~~\n",
      "    ext/_yaml.h:6:66: note: expanded from macro 'PyUnicode_FromString'\n",
      "    #define PyUnicode_FromString(s) PyUnicode_DecodeUTF8((s), strlen(s), \"strict\")\n",
      "                                                                     ^\n",
      "    /usr/include/string.h:82:28: note: passing argument to parameter here\n",
      "    size_t   strlen(const char *);\n",
      "                                ^\n",
      "    ext/_yaml.c:6447:21: warning: passing 'yaml_char_t *' (aka 'unsigned char *') to parameter of type 'const char *' converts between pointers to integer types with different sign [-Wpointer-sign]\n",
      "            __pyx_t_4 = PyUnicode_FromString(__pyx_v_tag_directive->prefix); if (unlikely(!__pyx_t_4)) {__pyx_filename = __pyx_f[0]; __pyx_lineno = 575; __pyx_clineno = __LINE__; goto __pyx_L1_error;}\n",
      "                        ^~~~~~~~~~~~~~~~~~~~~~~~~~~~~~~~~~~~~~~~~~~~~~~~~~~\n",
      "    ext/_yaml.h:6:54: note: expanded from macro 'PyUnicode_FromString'\n",
      "    #define PyUnicode_FromString(s) PyUnicode_DecodeUTF8((s), strlen(s), \"strict\")\n",
      "                                                         ^~~\n",
      "    /Users/lynnroot/.pyenv/versions/2.7.8/include/python2.7/unicodeobject.h:751:17: note: passing argument to parameter 'string' here\n",
      "        const char *string,         /* UTF-8 encoded string */\n",
      "                    ^\n",
      "    ext/_yaml.c:6616:38: warning: passing 'yaml_char_t *' (aka 'unsigned char *') to parameter of type 'const char *' converts between pointers to integer types with different sign [-Wpointer-sign]\n",
      "        __pyx_t_2 = PyUnicode_FromString(__pyx_v_event->data.alias.anchor); if (unlikely(!__pyx_t_2)) {__pyx_filename = __pyx_f[0]; __pyx_lineno = 586; __pyx_clineno = __LINE__; goto __pyx_L1_error;}\n",
      "                                         ^~~~~~~~~~~~~~~~~~~~~~~~~~~~~~~~\n",
      "    ext/_yaml.h:6:66: note: expanded from macro 'PyUnicode_FromString'\n",
      "    #define PyUnicode_FromString(s) PyUnicode_DecodeUTF8((s), strlen(s), \"strict\")\n",
      "                                                                     ^\n",
      "    /usr/include/string.h:82:28: note: passing argument to parameter here\n",
      "    size_t   strlen(const char *);\n",
      "                                ^\n",
      "    ext/_yaml.c:6616:17: warning: passing 'yaml_char_t *' (aka 'unsigned char *') to parameter of type 'const char *' converts between pointers to integer types with different sign [-Wpointer-sign]\n",
      "        __pyx_t_2 = PyUnicode_FromString(__pyx_v_event->data.alias.anchor); if (unlikely(!__pyx_t_2)) {__pyx_filename = __pyx_f[0]; __pyx_lineno = 586; __pyx_clineno = __LINE__; goto __pyx_L1_error;}\n",
      "                    ^~~~~~~~~~~~~~~~~~~~~~~~~~~~~~~~~~~~~~~~~~~~~~~~~~~~~~\n",
      "    ext/_yaml.h:6:54: note: expanded from macro 'PyUnicode_FromString'\n",
      "    #define PyUnicode_FromString(s) PyUnicode_DecodeUTF8((s), strlen(s), \"strict\")\n",
      "                                                         ^~~\n",
      "    /Users/lynnroot/.pyenv/versions/2.7.8/include/python2.7/unicodeobject.h:751:17: note: passing argument to parameter 'string' here\n",
      "        const char *string,         /* UTF-8 encoded string */\n",
      "                    ^\n",
      "    ext/_yaml.c:6687:40: warning: passing 'yaml_char_t *' (aka 'unsigned char *') to parameter of type 'const char *' converts between pointers to integer types with different sign [-Wpointer-sign]\n",
      "          __pyx_t_1 = PyUnicode_FromString(__pyx_v_event->data.scalar.anchor); if (unlikely(!__pyx_t_1)) {__pyx_filename = __pyx_f[0]; __pyx_lineno = 591; __pyx_clineno = __LINE__; goto __pyx_L1_error;}\n",
      "                                           ^~~~~~~~~~~~~~~~~~~~~~~~~~~~~~~~~\n",
      "    ext/_yaml.h:6:66: note: expanded from macro 'PyUnicode_FromString'\n",
      "    #define PyUnicode_FromString(s) PyUnicode_DecodeUTF8((s), strlen(s), \"strict\")\n",
      "                                                                     ^\n",
      "    /usr/include/string.h:82:28: note: passing argument to parameter here\n",
      "    size_t   strlen(const char *);\n",
      "                                ^\n",
      "    ext/_yaml.c:6687:19: warning: passing 'yaml_char_t *' (aka 'unsigned char *') to parameter of type 'const char *' converts between pointers to integer types with different sign [-Wpointer-sign]\n",
      "          __pyx_t_1 = PyUnicode_FromString(__pyx_v_event->data.scalar.anchor); if (unlikely(!__pyx_t_1)) {__pyx_filename = __pyx_f[0]; __pyx_lineno = 591; __pyx_clineno = __LINE__; goto __pyx_L1_error;}\n",
      "                      ^~~~~~~~~~~~~~~~~~~~~~~~~~~~~~~~~~~~~~~~~~~~~~~~~~~~~~~\n",
      "    ext/_yaml.h:6:54: note: expanded from macro 'PyUnicode_FromString'\n",
      "    #define PyUnicode_FromString(s) PyUnicode_DecodeUTF8((s), strlen(s), \"strict\")\n",
      "                                                         ^~~\n",
      "    /Users/lynnroot/.pyenv/versions/2.7.8/include/python2.7/unicodeobject.h:751:17: note: passing argument to parameter 'string' here\n",
      "        const char *string,         /* UTF-8 encoded string */\n",
      "                    ^\n",
      "    ext/_yaml.c:6722:40: warning: passing 'yaml_char_t *' (aka 'unsigned char *') to parameter of type 'const char *' converts between pointers to integer types with different sign [-Wpointer-sign]\n",
      "          __pyx_t_1 = PyUnicode_FromString(__pyx_v_event->data.scalar.tag); if (unlikely(!__pyx_t_1)) {__pyx_filename = __pyx_f[0]; __pyx_lineno = 594; __pyx_clineno = __LINE__; goto __pyx_L1_error;}\n",
      "                                           ^~~~~~~~~~~~~~~~~~~~~~~~~~~~~~\n",
      "    ext/_yaml.h:6:66: note: expanded from macro 'PyUnicode_FromString'\n",
      "    #define PyUnicode_FromString(s) PyUnicode_DecodeUTF8((s), strlen(s), \"strict\")\n",
      "                                                                     ^\n",
      "    /usr/include/string.h:82:28: note: passing argument to parameter here\n",
      "    size_t   strlen(const char *);\n",
      "                                ^\n",
      "    ext/_yaml.c:6722:19: warning: passing 'yaml_char_t *' (aka 'unsigned char *') to parameter of type 'const char *' converts between pointers to integer types with different sign [-Wpointer-sign]\n",
      "          __pyx_t_1 = PyUnicode_FromString(__pyx_v_event->data.scalar.tag); if (unlikely(!__pyx_t_1)) {__pyx_filename = __pyx_f[0]; __pyx_lineno = 594; __pyx_clineno = __LINE__; goto __pyx_L1_error;}\n",
      "                      ^~~~~~~~~~~~~~~~~~~~~~~~~~~~~~~~~~~~~~~~~~~~~~~~~~~~\n",
      "    ext/_yaml.h:6:54: note: expanded from macro 'PyUnicode_FromString'\n",
      "    #define PyUnicode_FromString(s) PyUnicode_DecodeUTF8((s), strlen(s), \"strict\")\n",
      "                                                         ^~~\n",
      "    /Users/lynnroot/.pyenv/versions/2.7.8/include/python2.7/unicodeobject.h:751:17: note: passing argument to parameter 'string' here\n",
      "        const char *string,         /* UTF-8 encoded string */\n",
      "                    ^\n",
      "    ext/_yaml.c:6737:38: warning: passing 'yaml_char_t *' (aka 'unsigned char *') to parameter of type 'const char *' converts between pointers to integer types with different sign [-Wpointer-sign]\n",
      "        __pyx_t_1 = PyUnicode_DecodeUTF8(__pyx_v_event->data.scalar.value, __pyx_v_event->data.scalar.length, __pyx_k_strict); if (unlikely(!__pyx_t_1)) {__pyx_filename = __pyx_f[0]; __pyx_lineno = 595; __pyx_clineno = __LINE__; goto __pyx_L1_error;}\n",
      "                                         ^~~~~~~~~~~~~~~~~~~~~~~~~~~~~~~~\n",
      "    /Users/lynnroot/.pyenv/versions/2.7.8/include/python2.7/unicodeobject.h:751:17: note: passing argument to parameter 'string' here\n",
      "        const char *string,         /* UTF-8 encoded string */\n",
      "                    ^\n",
      "    ext/_yaml.c:7031:40: warning: passing 'yaml_char_t *' (aka 'unsigned char *') to parameter of type 'const char *' converts between pointers to integer types with different sign [-Wpointer-sign]\n",
      "          __pyx_t_3 = PyUnicode_FromString(__pyx_v_event->data.sequence_start.anchor); if (unlikely(!__pyx_t_3)) {__pyx_filename = __pyx_f[0]; __pyx_lineno = 620; __pyx_clineno = __LINE__; goto __pyx_L1_error;}\n",
      "                                           ^~~~~~~~~~~~~~~~~~~~~~~~~~~~~~~~~~~~~~~~~\n",
      "    ext/_yaml.h:6:66: note: expanded from macro 'PyUnicode_FromString'\n",
      "    #define PyUnicode_FromString(s) PyUnicode_DecodeUTF8((s), strlen(s), \"strict\")\n",
      "                                                                     ^\n",
      "    /usr/include/string.h:82:28: note: passing argument to parameter here\n",
      "    size_t   strlen(const char *);\n",
      "                                ^\n",
      "    ext/_yaml.c:7031:19: warning: passing 'yaml_char_t *' (aka 'unsigned char *') to parameter of type 'const char *' converts between pointers to integer types with different sign [-Wpointer-sign]\n",
      "          __pyx_t_3 = PyUnicode_FromString(__pyx_v_event->data.sequence_start.anchor); if (unlikely(!__pyx_t_3)) {__pyx_filename = __pyx_f[0]; __pyx_lineno = 620; __pyx_clineno = __LINE__; goto __pyx_L1_error;}\n",
      "                      ^~~~~~~~~~~~~~~~~~~~~~~~~~~~~~~~~~~~~~~~~~~~~~~~~~~~~~~~~~~~~~~\n",
      "    ext/_yaml.h:6:54: note: expanded from macro 'PyUnicode_FromString'\n",
      "    #define PyUnicode_FromString(s) PyUnicode_DecodeUTF8((s), strlen(s), \"strict\")\n",
      "                                                         ^~~\n",
      "    /Users/lynnroot/.pyenv/versions/2.7.8/include/python2.7/unicodeobject.h:751:17: note: passing argument to parameter 'string' here\n",
      "        const char *string,         /* UTF-8 encoded string */\n",
      "                    ^\n",
      "    ext/_yaml.c:7066:40: warning: passing 'yaml_char_t *' (aka 'unsigned char *') to parameter of type 'const char *' converts between pointers to integer types with different sign [-Wpointer-sign]\n",
      "          __pyx_t_3 = PyUnicode_FromString(__pyx_v_event->data.sequence_start.tag); if (unlikely(!__pyx_t_3)) {__pyx_filename = __pyx_f[0]; __pyx_lineno = 623; __pyx_clineno = __LINE__; goto __pyx_L1_error;}\n",
      "                                           ^~~~~~~~~~~~~~~~~~~~~~~~~~~~~~~~~~~~~~\n",
      "    ext/_yaml.h:6:66: note: expanded from macro 'PyUnicode_FromString'\n",
      "    #define PyUnicode_FromString(s) PyUnicode_DecodeUTF8((s), strlen(s), \"strict\")\n",
      "                                                                     ^\n",
      "    /usr/include/string.h:82:28: note: passing argument to parameter here\n",
      "    size_t   strlen(const char *);\n",
      "                                ^\n",
      "    ext/_yaml.c:7066:19: warning: passing 'yaml_char_t *' (aka 'unsigned char *') to parameter of type 'const char *' converts between pointers to integer types with different sign [-Wpointer-sign]\n",
      "          __pyx_t_3 = PyUnicode_FromString(__pyx_v_event->data.sequence_start.tag); if (unlikely(!__pyx_t_3)) {__pyx_filename = __pyx_f[0]; __pyx_lineno = 623; __pyx_clineno = __LINE__; goto __pyx_L1_error;}\n",
      "                      ^~~~~~~~~~~~~~~~~~~~~~~~~~~~~~~~~~~~~~~~~~~~~~~~~~~~~~~~~~~~\n",
      "    ext/_yaml.h:6:54: note: expanded from macro 'PyUnicode_FromString'\n",
      "    #define PyUnicode_FromString(s) PyUnicode_DecodeUTF8((s), strlen(s), \"strict\")\n",
      "                                                         ^~~\n",
      "    /Users/lynnroot/.pyenv/versions/2.7.8/include/python2.7/unicodeobject.h:751:17: note: passing argument to parameter 'string' here\n",
      "        const char *string,         /* UTF-8 encoded string */\n",
      "                    ^\n",
      "    ext/_yaml.c:7253:40: warning: passing 'yaml_char_t *' (aka 'unsigned char *') to parameter of type 'const char *' converts between pointers to integer types with different sign [-Wpointer-sign]\n",
      "          __pyx_t_2 = PyUnicode_FromString(__pyx_v_event->data.mapping_start.anchor); if (unlikely(!__pyx_t_2)) {__pyx_filename = __pyx_f[0]; __pyx_lineno = 637; __pyx_clineno = __LINE__; goto __pyx_L1_error;}\n",
      "                                           ^~~~~~~~~~~~~~~~~~~~~~~~~~~~~~~~~~~~~~~~\n",
      "    ext/_yaml.h:6:66: note: expanded from macro 'PyUnicode_FromString'\n",
      "    #define PyUnicode_FromString(s) PyUnicode_DecodeUTF8((s), strlen(s), \"strict\")\n",
      "                                                                     ^\n",
      "    /usr/include/string.h:82:28: note: passing argument to parameter here\n",
      "    size_t   strlen(const char *);\n",
      "                                ^\n",
      "    ext/_yaml.c:7253:19: warning: passing 'yaml_char_t *' (aka 'unsigned char *') to parameter of type 'const char *' converts between pointers to integer types with different sign [-Wpointer-sign]\n",
      "          __pyx_t_2 = PyUnicode_FromString(__pyx_v_event->data.mapping_start.anchor); if (unlikely(!__pyx_t_2)) {__pyx_filename = __pyx_f[0]; __pyx_lineno = 637; __pyx_clineno = __LINE__; goto __pyx_L1_error;}\n",
      "                      ^~~~~~~~~~~~~~~~~~~~~~~~~~~~~~~~~~~~~~~~~~~~~~~~~~~~~~~~~~~~~~\n",
      "    ext/_yaml.h:6:54: note: expanded from macro 'PyUnicode_FromString'\n",
      "    #define PyUnicode_FromString(s) PyUnicode_DecodeUTF8((s), strlen(s), \"strict\")\n",
      "                                                         ^~~\n",
      "    /Users/lynnroot/.pyenv/versions/2.7.8/include/python2.7/unicodeobject.h:751:17: note: passing argument to parameter 'string' here\n",
      "        const char *string,         /* UTF-8 encoded string */\n",
      "                    ^\n",
      "    ext/_yaml.c:7288:40: warning: passing 'yaml_char_t *' (aka 'unsigned char *') to parameter of type 'const char *' converts between pointers to integer types with different sign [-Wpointer-sign]\n",
      "          __pyx_t_2 = PyUnicode_FromString(__pyx_v_event->data.mapping_start.tag); if (unlikely(!__pyx_t_2)) {__pyx_filename = __pyx_f[0]; __pyx_lineno = 640; __pyx_clineno = __LINE__; goto __pyx_L1_error;}\n",
      "                                           ^~~~~~~~~~~~~~~~~~~~~~~~~~~~~~~~~~~~~\n",
      "    ext/_yaml.h:6:66: note: expanded from macro 'PyUnicode_FromString'\n",
      "    #define PyUnicode_FromString(s) PyUnicode_DecodeUTF8((s), strlen(s), \"strict\")\n",
      "                                                                     ^\n",
      "    /usr/include/string.h:82:28: note: passing argument to parameter here\n",
      "    size_t   strlen(const char *);\n",
      "                                ^\n",
      "    ext/_yaml.c:7288:19: warning: passing 'yaml_char_t *' (aka 'unsigned char *') to parameter of type 'const char *' converts between pointers to integer types with different sign [-Wpointer-sign]\n",
      "          __pyx_t_2 = PyUnicode_FromString(__pyx_v_event->data.mapping_start.tag); if (unlikely(!__pyx_t_2)) {__pyx_filename = __pyx_f[0]; __pyx_lineno = 640; __pyx_clineno = __LINE__; goto __pyx_L1_error;}\n",
      "                      ^~~~~~~~~~~~~~~~~~~~~~~~~~~~~~~~~~~~~~~~~~~~~~~~~~~~~~~~~~~\n",
      "    ext/_yaml.h:6:54: note: expanded from macro 'PyUnicode_FromString'\n",
      "    #define PyUnicode_FromString(s) PyUnicode_DecodeUTF8((s), strlen(s), \"strict\")\n",
      "                                                         ^~~\n",
      "    /Users/lynnroot/.pyenv/versions/2.7.8/include/python2.7/unicodeobject.h:751:17: note: passing argument to parameter 'string' here\n",
      "        const char *string,         /* UTF-8 encoded string */\n",
      "                    ^\n",
      "    ext/_yaml.c:8704:38: warning: passing 'yaml_char_t *' (aka 'unsigned char *') to parameter of type 'const char *' converts between pointers to integer types with different sign [-Wpointer-sign]\n",
      "        __pyx_t_3 = PyUnicode_FromString(__pyx_v_self->parsed_event.data.alias.anchor); if (unlikely(!__pyx_t_3)) {__pyx_filename = __pyx_f[0]; __pyx_lineno = 734; __pyx_clineno = __LINE__; goto __pyx_L1_error;}\n",
      "                                         ^~~~~~~~~~~~~~~~~~~~~~~~~~~~~~~~~~~~~~~~~~~~\n",
      "    ext/_yaml.h:6:66: note: expanded from macro 'PyUnicode_FromString'\n",
      "    #define PyUnicode_FromString(s) PyUnicode_DecodeUTF8((s), strlen(s), \"strict\")\n",
      "                                                                     ^\n",
      "    /usr/include/string.h:82:28: note: passing argument to parameter here\n",
      "    size_t   strlen(const char *);\n",
      "                                ^\n",
      "    ext/_yaml.c:8704:17: warning: passing 'yaml_char_t *' (aka 'unsigned char *') to parameter of type 'const char *' converts between pointers to integer types with different sign [-Wpointer-sign]\n",
      "        __pyx_t_3 = PyUnicode_FromString(__pyx_v_self->parsed_event.data.alias.anchor); if (unlikely(!__pyx_t_3)) {__pyx_filename = __pyx_f[0]; __pyx_lineno = 734; __pyx_clineno = __LINE__; goto __pyx_L1_error;}\n",
      "                    ^~~~~~~~~~~~~~~~~~~~~~~~~~~~~~~~~~~~~~~~~~~~~~~~~~~~~~~~~~~~~~~~~~\n",
      "    ext/_yaml.h:6:54: note: expanded from macro 'PyUnicode_FromString'\n",
      "    #define PyUnicode_FromString(s) PyUnicode_DecodeUTF8((s), strlen(s), \"strict\")\n",
      "                                                         ^~~\n",
      "    /Users/lynnroot/.pyenv/versions/2.7.8/include/python2.7/unicodeobject.h:751:17: note: passing argument to parameter 'string' here\n",
      "        const char *string,         /* UTF-8 encoded string */\n",
      "                    ^\n",
      "    ext/_yaml.c:8924:38: warning: passing 'yaml_char_t *' (aka 'unsigned char *') to parameter of type 'const char *' converts between pointers to integer types with different sign [-Wpointer-sign]\n",
      "        __pyx_t_6 = PyUnicode_FromString(__pyx_v_self->parsed_event.data.scalar.anchor); if (unlikely(!__pyx_t_6)) {__pyx_filename = __pyx_f[0]; __pyx_lineno = 750; __pyx_clineno = __LINE__; goto __pyx_L1_error;}\n",
      "                                         ^~~~~~~~~~~~~~~~~~~~~~~~~~~~~~~~~~~~~~~~~~~~~\n",
      "    ext/_yaml.h:6:66: note: expanded from macro 'PyUnicode_FromString'\n",
      "    #define PyUnicode_FromString(s) PyUnicode_DecodeUTF8((s), strlen(s), \"strict\")\n",
      "                                                                     ^\n",
      "    /usr/include/string.h:82:28: note: passing argument to parameter here\n",
      "    size_t   strlen(const char *);\n",
      "                                ^\n",
      "    ext/_yaml.c:8924:17: warning: passing 'yaml_char_t *' (aka 'unsigned char *') to parameter of type 'const char *' converts between pointers to integer types with different sign [-Wpointer-sign]\n",
      "        __pyx_t_6 = PyUnicode_FromString(__pyx_v_self->parsed_event.data.scalar.anchor); if (unlikely(!__pyx_t_6)) {__pyx_filename = __pyx_f[0]; __pyx_lineno = 750; __pyx_clineno = __LINE__; goto __pyx_L1_error;}\n",
      "                    ^~~~~~~~~~~~~~~~~~~~~~~~~~~~~~~~~~~~~~~~~~~~~~~~~~~~~~~~~~~~~~~~~~~\n",
      "    ext/_yaml.h:6:54: note: expanded from macro 'PyUnicode_FromString'\n",
      "    #define PyUnicode_FromString(s) PyUnicode_DecodeUTF8((s), strlen(s), \"strict\")\n",
      "                                                         ^~~\n",
      "    /Users/lynnroot/.pyenv/versions/2.7.8/include/python2.7/unicodeobject.h:751:17: note: passing argument to parameter 'string' here\n",
      "        const char *string,         /* UTF-8 encoded string */\n",
      "                    ^\n",
      "    ext/_yaml.c:8962:38: warning: passing 'yaml_char_t *' (aka 'unsigned char *') to parameter of type 'const char *' converts between pointers to integer types with different sign [-Wpointer-sign]\n",
      "        __pyx_t_6 = PyUnicode_FromString(__pyx_v_self->parsed_event.data.sequence_start.anchor); if (unlikely(!__pyx_t_6)) {__pyx_filename = __pyx_f[0]; __pyx_lineno = 753; __pyx_clineno = __LINE__; goto __pyx_L1_error;}\n",
      "                                         ^~~~~~~~~~~~~~~~~~~~~~~~~~~~~~~~~~~~~~~~~~~~~~~~~~~~~\n",
      "    ext/_yaml.h:6:66: note: expanded from macro 'PyUnicode_FromString'\n",
      "    #define PyUnicode_FromString(s) PyUnicode_DecodeUTF8((s), strlen(s), \"strict\")\n",
      "                                                                     ^\n",
      "    /usr/include/string.h:82:28: note: passing argument to parameter here\n",
      "    size_t   strlen(const char *);\n",
      "                                ^\n",
      "    ext/_yaml.c:8962:17: warning: passing 'yaml_char_t *' (aka 'unsigned char *') to parameter of type 'const char *' converts between pointers to integer types with different sign [-Wpointer-sign]\n",
      "        __pyx_t_6 = PyUnicode_FromString(__pyx_v_self->parsed_event.data.sequence_start.anchor); if (unlikely(!__pyx_t_6)) {__pyx_filename = __pyx_f[0]; __pyx_lineno = 753; __pyx_clineno = __LINE__; goto __pyx_L1_error;}\n",
      "                    ^~~~~~~~~~~~~~~~~~~~~~~~~~~~~~~~~~~~~~~~~~~~~~~~~~~~~~~~~~~~~~~~~~~~~~~~~~~\n",
      "    ext/_yaml.h:6:54: note: expanded from macro 'PyUnicode_FromString'\n",
      "    #define PyUnicode_FromString(s) PyUnicode_DecodeUTF8((s), strlen(s), \"strict\")\n",
      "                                                         ^~~\n",
      "    /Users/lynnroot/.pyenv/versions/2.7.8/include/python2.7/unicodeobject.h:751:17: note: passing argument to parameter 'string' here\n",
      "        const char *string,         /* UTF-8 encoded string */\n",
      "                    ^\n",
      "    ext/_yaml.c:9000:38: warning: passing 'yaml_char_t *' (aka 'unsigned char *') to parameter of type 'const char *' converts between pointers to integer types with different sign [-Wpointer-sign]\n",
      "        __pyx_t_6 = PyUnicode_FromString(__pyx_v_self->parsed_event.data.mapping_start.anchor); if (unlikely(!__pyx_t_6)) {__pyx_filename = __pyx_f[0]; __pyx_lineno = 756; __pyx_clineno = __LINE__; goto __pyx_L1_error;}\n",
      "                                         ^~~~~~~~~~~~~~~~~~~~~~~~~~~~~~~~~~~~~~~~~~~~~~~~~~~~\n",
      "    ext/_yaml.h:6:66: note: expanded from macro 'PyUnicode_FromString'\n",
      "    #define PyUnicode_FromString(s) PyUnicode_DecodeUTF8((s), strlen(s), \"strict\")\n",
      "                                                                     ^\n",
      "    /usr/include/string.h:82:28: note: passing argument to parameter here\n",
      "    size_t   strlen(const char *);\n",
      "                                ^\n",
      "    ext/_yaml.c:9000:17: warning: passing 'yaml_char_t *' (aka 'unsigned char *') to parameter of type 'const char *' converts between pointers to integer types with different sign [-Wpointer-sign]\n",
      "        __pyx_t_6 = PyUnicode_FromString(__pyx_v_self->parsed_event.data.mapping_start.anchor); if (unlikely(!__pyx_t_6)) {__pyx_filename = __pyx_f[0]; __pyx_lineno = 756; __pyx_clineno = __LINE__; goto __pyx_L1_error;}\n",
      "                    ^~~~~~~~~~~~~~~~~~~~~~~~~~~~~~~~~~~~~~~~~~~~~~~~~~~~~~~~~~~~~~~~~~~~~~~~~~\n",
      "    ext/_yaml.h:6:54: note: expanded from macro 'PyUnicode_FromString'\n",
      "    #define PyUnicode_FromString(s) PyUnicode_DecodeUTF8((s), strlen(s), \"strict\")\n",
      "                                                         ^~~\n",
      "    /Users/lynnroot/.pyenv/versions/2.7.8/include/python2.7/unicodeobject.h:751:17: note: passing argument to parameter 'string' here\n",
      "        const char *string,         /* UTF-8 encoded string */\n",
      "                    ^\n",
      "    ext/_yaml.c:9532:36: warning: passing 'yaml_char_t *' (aka 'unsigned char *') to parameter of type 'const char *' converts between pointers to integer types with different sign [-Wpointer-sign]\n",
      "      __pyx_t_2 = PyUnicode_DecodeUTF8(__pyx_v_self->parsed_event.data.scalar.value, __pyx_v_self->parsed_event.data.scalar.length, __pyx_k_strict); if (unlikely(!__pyx_t_2)) {__pyx_filename = __pyx_f[0]; __pyx_lineno = 791; __pyx_clineno = __LINE__; goto __pyx_L1_error;}\n",
      "                                       ^~~~~~~~~~~~~~~~~~~~~~~~~~~~~~~~~~~~~~~~~~~~\n",
      "    /Users/lynnroot/.pyenv/versions/2.7.8/include/python2.7/unicodeobject.h:751:17: note: passing argument to parameter 'string' here\n",
      "        const char *string,         /* UTF-8 encoded string */\n",
      "                    ^\n",
      "    ext/_yaml.c:9688:38: warning: passing 'yaml_char_t *' (aka 'unsigned char *') to parameter of type 'const char *' converts between pointers to integer types with different sign [-Wpointer-sign]\n",
      "        __pyx_t_9 = PyUnicode_FromString(__pyx_v_self->parsed_event.data.scalar.tag); if (unlikely(!__pyx_t_9)) {__pyx_filename = __pyx_f[0]; __pyx_lineno = 804; __pyx_clineno = __LINE__; goto __pyx_L1_error;}\n",
      "                                         ^~~~~~~~~~~~~~~~~~~~~~~~~~~~~~~~~~~~~~~~~~\n",
      "    ext/_yaml.h:6:66: note: expanded from macro 'PyUnicode_FromString'\n",
      "    #define PyUnicode_FromString(s) PyUnicode_DecodeUTF8((s), strlen(s), \"strict\")\n",
      "                                                                     ^\n",
      "    /usr/include/string.h:82:28: note: passing argument to parameter here\n",
      "    size_t   strlen(const char *);\n",
      "                                ^\n",
      "    ext/_yaml.c:9688:17: warning: passing 'yaml_char_t *' (aka 'unsigned char *') to parameter of type 'const char *' converts between pointers to integer types with different sign [-Wpointer-sign]\n",
      "        __pyx_t_9 = PyUnicode_FromString(__pyx_v_self->parsed_event.data.scalar.tag); if (unlikely(!__pyx_t_9)) {__pyx_filename = __pyx_f[0]; __pyx_lineno = 804; __pyx_clineno = __LINE__; goto __pyx_L1_error;}\n",
      "                    ^~~~~~~~~~~~~~~~~~~~~~~~~~~~~~~~~~~~~~~~~~~~~~~~~~~~~~~~~~~~~~~~\n",
      "    ext/_yaml.h:6:54: note: expanded from macro 'PyUnicode_FromString'\n",
      "    #define PyUnicode_FromString(s) PyUnicode_DecodeUTF8((s), strlen(s), \"strict\")\n",
      "                                                         ^~~\n",
      "    /Users/lynnroot/.pyenv/versions/2.7.8/include/python2.7/unicodeobject.h:751:17: note: passing argument to parameter 'string' here\n",
      "        const char *string,         /* UTF-8 encoded string */\n",
      "                    ^\n",
      "    ext/_yaml.c:10128:38: warning: passing 'yaml_char_t *' (aka 'unsigned char *') to parameter of type 'const char *' converts between pointers to integer types with different sign [-Wpointer-sign]\n",
      "        __pyx_t_2 = PyUnicode_FromString(__pyx_v_self->parsed_event.data.sequence_start.tag); if (unlikely(!__pyx_t_2)) {__pyx_filename = __pyx_f[0]; __pyx_lineno = 837; __pyx_clineno = __LINE__; goto __pyx_L1_error;}\n",
      "                                         ^~~~~~~~~~~~~~~~~~~~~~~~~~~~~~~~~~~~~~~~~~~~~~~~~~\n",
      "    ext/_yaml.h:6:66: note: expanded from macro 'PyUnicode_FromString'\n",
      "    #define PyUnicode_FromString(s) PyUnicode_DecodeUTF8((s), strlen(s), \"strict\")\n",
      "                                                                     ^\n",
      "    /usr/include/string.h:82:28: note: passing argument to parameter here\n",
      "    size_t   strlen(const char *);\n",
      "                                ^\n",
      "    ext/_yaml.c:10128:17: warning: passing 'yaml_char_t *' (aka 'unsigned char *') to parameter of type 'const char *' converts between pointers to integer types with different sign [-Wpointer-sign]\n",
      "        __pyx_t_2 = PyUnicode_FromString(__pyx_v_self->parsed_event.data.sequence_start.tag); if (unlikely(!__pyx_t_2)) {__pyx_filename = __pyx_f[0]; __pyx_lineno = 837; __pyx_clineno = __LINE__; goto __pyx_L1_error;}\n",
      "                    ^~~~~~~~~~~~~~~~~~~~~~~~~~~~~~~~~~~~~~~~~~~~~~~~~~~~~~~~~~~~~~~~~~~~~~~~\n",
      "    ext/_yaml.h:6:54: note: expanded from macro 'PyUnicode_FromString'\n",
      "    #define PyUnicode_FromString(s) PyUnicode_DecodeUTF8((s), strlen(s), \"strict\")\n",
      "                                                         ^~~\n",
      "    /Users/lynnroot/.pyenv/versions/2.7.8/include/python2.7/unicodeobject.h:751:17: note: passing argument to parameter 'string' here\n",
      "        const char *string,         /* UTF-8 encoded string */\n",
      "                    ^\n",
      "    ext/_yaml.c:10654:38: warning: passing 'yaml_char_t *' (aka 'unsigned char *') to parameter of type 'const char *' converts between pointers to integer types with different sign [-Wpointer-sign]\n",
      "        __pyx_t_2 = PyUnicode_FromString(__pyx_v_self->parsed_event.data.mapping_start.tag); if (unlikely(!__pyx_t_2)) {__pyx_filename = __pyx_f[0]; __pyx_lineno = 876; __pyx_clineno = __LINE__; goto __pyx_L1_error;}\n",
      "                                         ^~~~~~~~~~~~~~~~~~~~~~~~~~~~~~~~~~~~~~~~~~~~~~~~~\n",
      "    ext/_yaml.h:6:66: note: expanded from macro 'PyUnicode_FromString'\n",
      "    #define PyUnicode_FromString(s) PyUnicode_DecodeUTF8((s), strlen(s), \"strict\")\n",
      "                                                                     ^\n",
      "    /usr/include/string.h:82:28: note: passing argument to parameter here\n",
      "    size_t   strlen(const char *);\n",
      "                                ^\n",
      "    ext/_yaml.c:10654:17: warning: passing 'yaml_char_t *' (aka 'unsigned char *') to parameter of type 'const char *' converts between pointers to integer types with different sign [-Wpointer-sign]\n",
      "        __pyx_t_2 = PyUnicode_FromString(__pyx_v_self->parsed_event.data.mapping_start.tag); if (unlikely(!__pyx_t_2)) {__pyx_filename = __pyx_f[0]; __pyx_lineno = 876; __pyx_clineno = __LINE__; goto __pyx_L1_error;}\n",
      "                    ^~~~~~~~~~~~~~~~~~~~~~~~~~~~~~~~~~~~~~~~~~~~~~~~~~~~~~~~~~~~~~~~~~~~~~~\n",
      "    ext/_yaml.h:6:54: note: expanded from macro 'PyUnicode_FromString'\n",
      "    #define PyUnicode_FromString(s) PyUnicode_DecodeUTF8((s), strlen(s), \"strict\")\n",
      "                                                         ^~~\n",
      "    /Users/lynnroot/.pyenv/versions/2.7.8/include/python2.7/unicodeobject.h:751:17: note: passing argument to parameter 'string' here\n",
      "        const char *string,         /* UTF-8 encoded string */\n",
      "                    ^\n",
      "    ext/_yaml.c:11721:53: warning: incompatible pointer types passing 'int (void *, char *, int)' to parameter of type 'yaml_write_handler_t *' (aka 'int (*)(void *, unsigned char *, size_t)') [-Wincompatible-pointer-types]\n",
      "      yaml_emitter_set_output((&__pyx_v_self->emitter), __pyx_f_5_yaml_output_handler, ((void *)__pyx_v_self));\n",
      "                                                        ^~~~~~~~~~~~~~~~~~~~~~~~~~~~~\n",
      "    /usr/local/include/yaml.h:1830:31: note: passing argument to parameter 'handler' here\n",
      "            yaml_write_handler_t *handler, void *data);\n",
      "                                  ^\n",
      "    ext/_yaml.c:12898:44: warning: assigning to 'yaml_char_t *' (aka 'unsigned char *') from 'char [1]' converts between pointers to integer types with different sign [-Wpointer-sign]\n",
      "            __pyx_v_tag_directives_end->handle = PyString_AS_STRING(__pyx_v_handle);\n",
      "                                               ^ ~~~~~~~~~~~~~~~~~~~~~~~~~~~~~~~~~~\n",
      "    ext/_yaml.c:12991:44: warning: assigning to 'yaml_char_t *' (aka 'unsigned char *') from 'char [1]' converts between pointers to integer types with different sign [-Wpointer-sign]\n",
      "            __pyx_v_tag_directives_end->prefix = PyString_AS_STRING(__pyx_v_prefix);\n",
      "                                               ^ ~~~~~~~~~~~~~~~~~~~~~~~~~~~~~~~~~~\n",
      "    ext/_yaml.c:13248:62: warning: passing 'char *' to parameter of type 'yaml_char_t *' (aka 'unsigned char *') converts between pointers to integer types with different sign [-Wpointer-sign]\n",
      "        __pyx_t_4 = ((yaml_alias_event_initialize(__pyx_v_event, __pyx_v_anchor) == 0) != 0);\n",
      "                                                                 ^~~~~~~~~~~~~~\n",
      "    /usr/local/include/yaml.h:553:63: note: passing argument to parameter 'anchor' here\n",
      "    yaml_alias_event_initialize(yaml_event_t *event, yaml_char_t *anchor);\n",
      "                                                                  ^\n",
      "    ext/_yaml.c:13824:63: warning: passing 'char *' to parameter of type 'yaml_char_t *' (aka 'unsigned char *') converts between pointers to integer types with different sign [-Wpointer-sign]\n",
      "        __pyx_t_3 = ((yaml_scalar_event_initialize(__pyx_v_event, __pyx_v_anchor, __pyx_v_tag, __pyx_v_value, __pyx_v_length, __pyx_v_plain_implicit, __pyx_v_quoted_implicit, __pyx_v_scalar_style) == 0) != 0);\n",
      "                                                                  ^~~~~~~~~~~~~~\n",
      "    /usr/local/include/yaml.h:579:22: note: passing argument to parameter 'anchor' here\n",
      "            yaml_char_t *anchor, yaml_char_t *tag,\n",
      "                         ^\n",
      "    ext/_yaml.c:13824:79: warning: passing 'char *' to parameter of type 'yaml_char_t *' (aka 'unsigned char *') converts between pointers to integer types with different sign [-Wpointer-sign]\n",
      "        __pyx_t_3 = ((yaml_scalar_event_initialize(__pyx_v_event, __pyx_v_anchor, __pyx_v_tag, __pyx_v_value, __pyx_v_length, __pyx_v_plain_implicit, __pyx_v_quoted_implicit, __pyx_v_scalar_style) == 0) != 0);\n",
      "                                                                                  ^~~~~~~~~~~\n",
      "    /usr/local/include/yaml.h:579:43: note: passing argument to parameter 'tag' here\n",
      "            yaml_char_t *anchor, yaml_char_t *tag,\n",
      "                                              ^\n",
      "    ext/_yaml.c:13824:92: warning: passing 'char *' to parameter of type 'yaml_char_t *' (aka 'unsigned char *') converts between pointers to integer types with different sign [-Wpointer-sign]\n",
      "        __pyx_t_3 = ((yaml_scalar_event_initialize(__pyx_v_event, __pyx_v_anchor, __pyx_v_tag, __pyx_v_value, __pyx_v_length, __pyx_v_plain_implicit, __pyx_v_quoted_implicit, __pyx_v_scalar_style) == 0) != 0);\n",
      "                                                                                               ^~~~~~~~~~~~~\n",
      "    /usr/local/include/yaml.h:580:22: note: passing argument to parameter 'value' here\n",
      "            yaml_char_t *value, int length,\n",
      "                         ^\n",
      "    ext/_yaml.c:14166:71: warning: passing 'char *' to parameter of type 'yaml_char_t *' (aka 'unsigned char *') converts between pointers to integer types with different sign [-Wpointer-sign]\n",
      "        __pyx_t_4 = ((yaml_sequence_start_event_initialize(__pyx_v_event, __pyx_v_anchor, __pyx_v_tag, __pyx_v_implicit, __pyx_v_sequence_style) == 0) != 0);\n",
      "                                                                          ^~~~~~~~~~~~~~\n",
      "    /usr/local/include/yaml.h:602:22: note: passing argument to parameter 'anchor' here\n",
      "            yaml_char_t *anchor, yaml_char_t *tag, int implicit,\n",
      "                         ^\n",
      "    ext/_yaml.c:14166:87: warning: passing 'char *' to parameter of type 'yaml_char_t *' (aka 'unsigned char *') converts between pointers to integer types with different sign [-Wpointer-sign]\n",
      "        __pyx_t_4 = ((yaml_sequence_start_event_initialize(__pyx_v_event, __pyx_v_anchor, __pyx_v_tag, __pyx_v_implicit, __pyx_v_sequence_style) == 0) != 0);\n",
      "                                                                                          ^~~~~~~~~~~\n",
      "    /usr/local/include/yaml.h:602:43: note: passing argument to parameter 'tag' here\n",
      "            yaml_char_t *anchor, yaml_char_t *tag, int implicit,\n",
      "                                              ^\n",
      "    ext/_yaml.c:14508:70: warning: passing 'char *' to parameter of type 'yaml_char_t *' (aka 'unsigned char *') converts between pointers to integer types with different sign [-Wpointer-sign]\n",
      "        __pyx_t_3 = ((yaml_mapping_start_event_initialize(__pyx_v_event, __pyx_v_anchor, __pyx_v_tag, __pyx_v_implicit, __pyx_v_mapping_style) == 0) != 0);\n",
      "                                                                         ^~~~~~~~~~~~~~\n",
      "    /usr/local/include/yaml.h:634:22: note: passing argument to parameter 'anchor' here\n",
      "            yaml_char_t *anchor, yaml_char_t *tag, int implicit,\n",
      "                         ^\n",
      "    ext/_yaml.c:14508:86: warning: passing 'char *' to parameter of type 'yaml_char_t *' (aka 'unsigned char *') converts between pointers to integer types with different sign [-Wpointer-sign]\n",
      "        __pyx_t_3 = ((yaml_mapping_start_event_initialize(__pyx_v_event, __pyx_v_anchor, __pyx_v_tag, __pyx_v_implicit, __pyx_v_mapping_style) == 0) != 0);\n",
      "                                                                                         ^~~~~~~~~~~\n",
      "    /usr/local/include/yaml.h:634:43: note: passing argument to parameter 'tag' here\n",
      "            yaml_char_t *anchor, yaml_char_t *tag, int implicit,\n",
      "                                              ^\n",
      "    ext/_yaml.c:15784:42: warning: assigning to 'yaml_char_t *' (aka 'unsigned char *') from 'char [1]' converts between pointers to integer types with different sign [-Wpointer-sign]\n",
      "          __pyx_v_tag_directives_end->handle = PyString_AS_STRING(__pyx_v_handle);\n",
      "                                             ^ ~~~~~~~~~~~~~~~~~~~~~~~~~~~~~~~~~~\n",
      "    ext/_yaml.c:15877:42: warning: assigning to 'yaml_char_t *' (aka 'unsigned char *') from 'char [1]' converts between pointers to integer types with different sign [-Wpointer-sign]\n",
      "          __pyx_v_tag_directives_end->prefix = PyString_AS_STRING(__pyx_v_prefix);\n",
      "                                             ^ ~~~~~~~~~~~~~~~~~~~~~~~~~~~~~~~~~~\n",
      "    ext/_yaml.c:16616:65: warning: passing 'char *' to parameter of type 'yaml_char_t *' (aka 'unsigned char *') converts between pointers to integer types with different sign [-Wpointer-sign]\n",
      "        __pyx_t_2 = ((yaml_alias_event_initialize((&__pyx_v_event), __pyx_v_anchor) == 0) != 0);\n",
      "                                                                    ^~~~~~~~~~~~~~\n",
      "    /usr/local/include/yaml.h:553:63: note: passing argument to parameter 'anchor' here\n",
      "    yaml_alias_event_initialize(yaml_event_t *event, yaml_char_t *anchor);\n",
      "                                                                  ^\n",
      "    ext/_yaml.c:17195:68: warning: passing 'char *' to parameter of type 'yaml_char_t *' (aka 'unsigned char *') converts between pointers to integer types with different sign [-Wpointer-sign]\n",
      "          __pyx_t_8 = ((yaml_scalar_event_initialize((&__pyx_v_event), __pyx_v_anchor, __pyx_v_tag, __pyx_v_value, __pyx_v_length, __pyx_v_plain_implicit, __pyx_v_quoted_implicit, __pyx_v_scalar_style) == 0) != 0);\n",
      "                                                                       ^~~~~~~~~~~~~~\n",
      "    /usr/local/include/yaml.h:579:22: note: passing argument to parameter 'anchor' here\n",
      "            yaml_char_t *anchor, yaml_char_t *tag,\n",
      "                         ^\n",
      "    ext/_yaml.c:17195:84: warning: passing 'char *' to parameter of type 'yaml_char_t *' (aka 'unsigned char *') converts between pointers to integer types with different sign [-Wpointer-sign]\n",
      "          __pyx_t_8 = ((yaml_scalar_event_initialize((&__pyx_v_event), __pyx_v_anchor, __pyx_v_tag, __pyx_v_value, __pyx_v_length, __pyx_v_plain_implicit, __pyx_v_quoted_implicit, __pyx_v_scalar_style) == 0) != 0);\n",
      "                                                                                       ^~~~~~~~~~~\n",
      "    /usr/local/include/yaml.h:579:43: note: passing argument to parameter 'tag' here\n",
      "            yaml_char_t *anchor, yaml_char_t *tag,\n",
      "                                              ^\n",
      "    ext/_yaml.c:17195:97: warning: passing 'char *' to parameter of type 'yaml_char_t *' (aka 'unsigned char *') converts between pointers to integer types with different sign [-Wpointer-sign]\n",
      "          __pyx_t_8 = ((yaml_scalar_event_initialize((&__pyx_v_event), __pyx_v_anchor, __pyx_v_tag, __pyx_v_value, __pyx_v_length, __pyx_v_plain_implicit, __pyx_v_quoted_implicit, __pyx_v_scalar_style) == 0) != 0);\n",
      "                                                                                                    ^~~~~~~~~~~~~\n",
      "    /usr/local/include/yaml.h:580:22: note: passing argument to parameter 'value' here\n",
      "            yaml_char_t *value, int length,\n",
      "                         ^\n",
      "    ext/_yaml.c:17473:76: warning: passing 'char *' to parameter of type 'yaml_char_t *' (aka 'unsigned char *') converts between pointers to integer types with different sign [-Wpointer-sign]\n",
      "          __pyx_t_8 = ((yaml_sequence_start_event_initialize((&__pyx_v_event), __pyx_v_anchor, __pyx_v_tag, __pyx_v_implicit, __pyx_v_sequence_style) == 0) != 0);\n",
      "                                                                               ^~~~~~~~~~~~~~\n",
      "    /usr/local/include/yaml.h:602:22: note: passing argument to parameter 'anchor' here\n",
      "            yaml_char_t *anchor, yaml_char_t *tag, int implicit,\n",
      "                         ^\n",
      "    ext/_yaml.c:17473:92: warning: passing 'char *' to parameter of type 'yaml_char_t *' (aka 'unsigned char *') converts between pointers to integer types with different sign [-Wpointer-sign]\n",
      "          __pyx_t_8 = ((yaml_sequence_start_event_initialize((&__pyx_v_event), __pyx_v_anchor, __pyx_v_tag, __pyx_v_implicit, __pyx_v_sequence_style) == 0) != 0);\n",
      "                                                                                               ^~~~~~~~~~~\n",
      "    /usr/local/include/yaml.h:602:43: note: passing argument to parameter 'tag' here\n",
      "            yaml_char_t *anchor, yaml_char_t *tag, int implicit,\n",
      "                                              ^\n",
      "    ext/_yaml.c:17874:75: warning: passing 'char *' to parameter of type 'yaml_char_t *' (aka 'unsigned char *') converts between pointers to integer types with different sign [-Wpointer-sign]\n",
      "          __pyx_t_8 = ((yaml_mapping_start_event_initialize((&__pyx_v_event), __pyx_v_anchor, __pyx_v_tag, __pyx_v_implicit, __pyx_v_mapping_style) == 0) != 0);\n",
      "                                                                              ^~~~~~~~~~~~~~\n",
      "    /usr/local/include/yaml.h:634:22: note: passing argument to parameter 'anchor' here\n",
      "            yaml_char_t *anchor, yaml_char_t *tag, int implicit,\n",
      "                         ^\n",
      "    ext/_yaml.c:17874:91: warning: passing 'char *' to parameter of type 'yaml_char_t *' (aka 'unsigned char *') converts between pointers to integer types with different sign [-Wpointer-sign]\n",
      "          __pyx_t_8 = ((yaml_mapping_start_event_initialize((&__pyx_v_event), __pyx_v_anchor, __pyx_v_tag, __pyx_v_implicit, __pyx_v_mapping_style) == 0) != 0);\n",
      "                                                                                              ^~~~~~~~~~~\n",
      "    /usr/local/include/yaml.h:634:43: note: passing argument to parameter 'tag' here\n",
      "            yaml_char_t *anchor, yaml_char_t *tag, int implicit,\n",
      "                                              ^\n",
      "    ext/_yaml.c:22027:28: warning: unused function '__Pyx_PyObject_AsString' [-Wunused-function]\n",
      "    static CYTHON_INLINE char* __Pyx_PyObject_AsString(PyObject* o) {\n",
      "                               ^\n",
      "    ext/_yaml.c:22024:32: warning: unused function '__Pyx_PyUnicode_FromString' [-Wunused-function]\n",
      "    static CYTHON_INLINE PyObject* __Pyx_PyUnicode_FromString(char* c_str) {\n",
      "                                   ^\n",
      "    ext/_yaml.c:405:29: warning: unused function '__Pyx_Py_UNICODE_strlen' [-Wunused-function]\n",
      "    static CYTHON_INLINE size_t __Pyx_Py_UNICODE_strlen(const Py_UNICODE *u)\n",
      "                                ^\n",
      "    ext/_yaml.c:22146:33: warning: unused function '__Pyx_PyIndex_AsSsize_t' [-Wunused-function]\n",
      "    static CYTHON_INLINE Py_ssize_t __Pyx_PyIndex_AsSsize_t(PyObject* b) {\n",
      "                                    ^\n",
      "    ext/_yaml.c:22175:33: warning: unused function '__Pyx_PyInt_FromSize_t' [-Wunused-function]\n",
      "    static CYTHON_INLINE PyObject * __Pyx_PyInt_FromSize_t(size_t ival) {\n",
      "                                    ^\n",
      "    ext/_yaml.c:20925:27: warning: unused function '__Pyx_ErrFetch' [-Wunused-function]\n",
      "    static CYTHON_INLINE void __Pyx_ErrFetch(PyObject **type, PyObject **value, PyObject **tb) {\n",
      "                              ^\n",
      "    ext/_yaml.c:21319:32: warning: unused function '__Pyx_GetItemInt_List_Fast' [-Wunused-function]\n",
      "    static CYTHON_INLINE PyObject *__Pyx_GetItemInt_List_Fast(PyObject *o, Py_ssize_t i,\n",
      "                                   ^\n",
      "    ext/_yaml.c:21333:32: warning: unused function '__Pyx_GetItemInt_Tuple_Fast' [-Wunused-function]\n",
      "    static CYTHON_INLINE PyObject *__Pyx_GetItemInt_Tuple_Fast(PyObject *o, Py_ssize_t i,\n",
      "                                   ^\n",
      "    ext/_yaml.c:21718:27: warning: function '__Pyx_PyInt_As_long' is not needed and will not be emitted [-Wunneeded-internal-declaration]\n",
      "    static CYTHON_INLINE long __Pyx_PyInt_As_long(PyObject *x) {\n",
      "                              ^\n",
      "    81 warnings generated.\n",
      "    gcc -bundle -undefined dynamic_lookup -L/usr/local/opt/readline/lib -L/usr/local/opt/readline/lib -L/Users/lynnroot/.pyenv/versions/2.7.8/lib build/temp.macosx-10.4-x86_64-2.7/ext/_yaml.o -lyaml -o build/lib.macosx-10.4-x86_64-2.7/_yaml.so\n",
      "    \n",
      "Successfully installed ramlfications click six termcolor markdown2 xmltodict pyyaml attrs\n",
      "Cleaning up...\n"
     ]
    }
   ],
   "source": [
    "!pip install ramlfications"
   ]
  },
  {
   "cell_type": "markdown",
   "metadata": {
    "slideshow": {
     "slide_type": "subslide"
    }
   },
   "source": [
    "# using RAMLfications within your library"
   ]
  },
  {
   "cell_type": "code",
   "execution_count": 8,
   "metadata": {
    "collapsed": true,
    "slideshow": {
     "slide_type": "fragment"
    }
   },
   "outputs": [],
   "source": [
    "from ramlfications import parse"
   ]
  },
  {
   "cell_type": "code",
   "execution_count": 16,
   "metadata": {
    "collapsed": false,
    "slideshow": {
     "slide_type": "fragment"
    }
   },
   "outputs": [],
   "source": [
    "RAML_FILE = \"spotify-web-api.raml\"\n",
    "api = parse(RAML_FILE)"
   ]
  },
  {
   "cell_type": "code",
   "execution_count": 17,
   "metadata": {
    "collapsed": false,
    "slideshow": {
     "slide_type": "fragment"
    }
   },
   "outputs": [
    {
     "data": {
      "text/plain": [
       "RootNode(title='Spotify Web API')"
      ]
     },
     "execution_count": 17,
     "metadata": {},
     "output_type": "execute_result"
    }
   ],
   "source": [
    "api"
   ]
  },
  {
   "cell_type": "code",
   "execution_count": 29,
   "metadata": {
    "collapsed": false,
    "slideshow": {
     "slide_type": "subslide"
    }
   },
   "outputs": [
    {
     "data": {
      "text/plain": [
       "'Spotify Web API'"
      ]
     },
     "execution_count": 29,
     "metadata": {},
     "output_type": "execute_result"
    }
   ],
   "source": [
    "#metadata\n",
    "api.title"
   ]
  },
  {
   "cell_type": "code",
   "execution_count": 19,
   "metadata": {
    "collapsed": false,
    "slideshow": {
     "slide_type": "fragment"
    }
   },
   "outputs": [
    {
     "data": {
      "text/plain": [
       "'v1'"
      ]
     },
     "execution_count": 19,
     "metadata": {},
     "output_type": "execute_result"
    }
   ],
   "source": [
    "api.version"
   ]
  },
  {
   "cell_type": "code",
   "execution_count": 30,
   "metadata": {
    "collapsed": false,
    "slideshow": {
     "slide_type": "fragment"
    }
   },
   "outputs": [
    {
     "data": {
      "text/plain": [
       "'https://api.spotify.com/v1'"
      ]
     },
     "execution_count": 30,
     "metadata": {},
     "output_type": "execute_result"
    }
   ],
   "source": [
    "api.base_uri"
   ]
  },
  {
   "cell_type": "code",
   "execution_count": 67,
   "metadata": {
    "collapsed": false,
    "slideshow": {
     "slide_type": "fragment"
    }
   },
   "outputs": [
    {
     "data": {
      "text/plain": [
       "['HTTPS']"
      ]
     },
     "execution_count": 67,
     "metadata": {},
     "output_type": "execute_result"
    }
   ],
   "source": [
    "api.protocols"
   ]
  },
  {
   "cell_type": "code",
   "execution_count": 28,
   "metadata": {
    "collapsed": false,
    "slideshow": {
     "slide_type": "subslide"
    }
   },
   "outputs": [
    {
     "data": {
      "text/plain": [
       "[SecurityScheme(name='oauth_2_0')]"
      ]
     },
     "execution_count": 28,
     "metadata": {},
     "output_type": "execute_result"
    }
   ],
   "source": [
    "# security schemes\n",
    "api.security_schemes"
   ]
  },
  {
   "cell_type": "code",
   "execution_count": 27,
   "metadata": {
    "collapsed": false,
    "slideshow": {
     "slide_type": "fragment"
    }
   },
   "outputs": [
    {
     "data": {
      "text/plain": [
       "['playlist-read-private',\n",
       " 'playlist-modify-public',\n",
       " 'playlist-modify-private',\n",
       " 'user-library-read',\n",
       " 'user-library-modify',\n",
       " 'user-read-private',\n",
       " 'user-read-birthdate',\n",
       " 'user-read-email',\n",
       " 'user-follow-read',\n",
       " 'user-follow-modify']"
      ]
     },
     "execution_count": 27,
     "metadata": {},
     "output_type": "execute_result"
    }
   ],
   "source": [
    "oauth = api.security_schemes[0]\n",
    "oauth.settings.get(\"scopes\")"
   ]
  },
  {
   "cell_type": "code",
   "execution_count": 31,
   "metadata": {
    "collapsed": false,
    "slideshow": {
     "slide_type": "subslide"
    }
   },
   "outputs": [
    {
     "data": {
      "text/plain": [
       "[ResourceNode(method='get', path='/albums'),\n",
       " ResourceNode(method='get', path='/albums/{id}'),\n",
       " ResourceNode(method='get', path='/albums/{id}/tracks'),\n",
       " ResourceNode(method='get', path='/artists'),\n",
       " ResourceNode(method='get', path='/artists/{id}'),\n",
       " ResourceNode(method='get', path='/artists/{id}/top-tracks'),\n",
       " ResourceNode(method='get', path='/artists/{id}/related-artists'),\n",
       " ResourceNode(method='get', path='/artists/{id}/albums'),\n",
       " ResourceNode(method='get', path='/tracks'),\n",
       " ResourceNode(method='get', path='/tracks/{id}'),\n",
       " ResourceNode(method='get', path='/search'),\n",
       " ResourceNode(method='get', path='/me'),\n",
       " ResourceNode(method='get', path='/me/tracks'),\n",
       " ResourceNode(method='put', path='/me/tracks'),\n",
       " ResourceNode(method='delete', path='/me/tracks'),\n",
       " ResourceNode(method='get', path='/me/tracks/contains'),\n",
       " ResourceNode(method='get', path='/users/{user_id}'),\n",
       " ResourceNode(method='get', path='/users/{user_id}/playlists'),\n",
       " ResourceNode(method='post', path='/users/{user_id}/playlists'),\n",
       " ResourceNode(method='get', path='/users/{user_id}/playlists/{playlist_id}'),\n",
       " ResourceNode(method='put', path='/users/{user_id}/playlists/{playlist_id}'),\n",
       " ResourceNode(method='get', path='/users/{user_id}/playlists/{playlist_id}/tracks'),\n",
       " ResourceNode(method='post', path='/users/{user_id}/playlists/{playlist_id}/tracks'),\n",
       " ResourceNode(method='put', path='/users/{user_id}/playlists/{playlist_id}/tracks'),\n",
       " ResourceNode(method='delete', path='/users/{user_id}/playlists/{playlist_id}/tracks'),\n",
       " ResourceNode(method='put', path='/users/{user_id}/playlists/{playlist_id}/followers'),\n",
       " ResourceNode(method='delete', path='/users/{user_id}/playlists/{playlist_id}/followers'),\n",
       " ResourceNode(method='get', path='/users/{user_id}/playlists/{playlist_id}/followers/contains'),\n",
       " ResourceNode(method='get', path='/browse/new-releases'),\n",
       " ResourceNode(method='get', path='/browse/featured-playlists'),\n",
       " ResourceNode(method='get', path='/browse/categories'),\n",
       " ResourceNode(method='get', path='/browse/categories/{category_id}'),\n",
       " ResourceNode(method='get', path='/browse/categories/{category_id}/playlists'),\n",
       " ResourceNode(method='put', path='/me/following'),\n",
       " ResourceNode(method='delete', path='/me/following'),\n",
       " ResourceNode(method='get', path='/me/following/contains')]"
      ]
     },
     "execution_count": 31,
     "metadata": {},
     "output_type": "execute_result"
    }
   ],
   "source": [
    "# API endpoints\n",
    "res = api.resources\n",
    "res"
   ]
  },
  {
   "cell_type": "code",
   "execution_count": 36,
   "metadata": {
    "collapsed": false,
    "slideshow": {
     "slide_type": "subslide"
    }
   },
   "outputs": [
    {
     "data": {
      "text/plain": [
       "[URIParameter(name='id')]"
      ]
     },
     "execution_count": 36,
     "metadata": {},
     "output_type": "execute_result"
    }
   ],
   "source": [
    "get_an_album = res[1]\n",
    "get_an_album.uri_params"
   ]
  },
  {
   "cell_type": "code",
   "execution_count": 54,
   "metadata": {
    "collapsed": false,
    "slideshow": {
     "slide_type": "fragment"
    }
   },
   "outputs": [
    {
     "data": {
      "text/plain": [
       "'get'"
      ]
     },
     "execution_count": 54,
     "metadata": {},
     "output_type": "execute_result"
    }
   ],
   "source": [
    "get_an_album.method"
   ]
  },
  {
   "cell_type": "code",
   "execution_count": 55,
   "metadata": {
    "collapsed": false,
    "slideshow": {
     "slide_type": "fragment"
    }
   },
   "outputs": [
    {
     "data": {
      "text/plain": [
       "[Get an Album](https://developer.spotify.com/web-api/get-album/)"
      ]
     },
     "execution_count": 55,
     "metadata": {},
     "output_type": "execute_result"
    }
   ],
   "source": [
    "get_an_album.description"
   ]
  },
  {
   "cell_type": "code",
   "execution_count": 56,
   "metadata": {
    "collapsed": false,
    "slideshow": {
     "slide_type": "fragment"
    }
   },
   "outputs": [
    {
     "data": {
      "text/plain": [
       "u'<p><a href=\"https://developer.spotify.com/web-api/get-album/\">Get an Album</a></p>\\n'"
      ]
     },
     "execution_count": 56,
     "metadata": {},
     "output_type": "execute_result"
    }
   ],
   "source": [
    "get_an_album.description.html"
   ]
  },
  {
   "cell_type": "code",
   "execution_count": 58,
   "metadata": {
    "collapsed": false,
    "slideshow": {
     "slide_type": "fragment"
    }
   },
   "outputs": [
    {
     "data": {
      "text/plain": [
       "'album'"
      ]
     },
     "execution_count": 58,
     "metadata": {},
     "output_type": "execute_result"
    }
   ],
   "source": [
    "get_an_album.display_name"
   ]
  },
  {
   "cell_type": "code",
   "execution_count": 68,
   "metadata": {
    "collapsed": false,
    "slideshow": {
     "slide_type": "fragment"
    }
   },
   "outputs": [
    {
     "data": {
      "text/plain": [
       "'/albums/{id}'"
      ]
     },
     "execution_count": 68,
     "metadata": {},
     "output_type": "execute_result"
    }
   ],
   "source": [
    "get_an_album.path"
   ]
  },
  {
   "cell_type": "code",
   "execution_count": 69,
   "metadata": {
    "collapsed": false,
    "slideshow": {
     "slide_type": "fragment"
    }
   },
   "outputs": [
    {
     "data": {
      "text/plain": [
       "'https://api.spotify.com/v1/albums/{id}'"
      ]
     },
     "execution_count": 69,
     "metadata": {},
     "output_type": "execute_result"
    }
   ],
   "source": [
    "get_an_album.absolute_uri"
   ]
  },
  {
   "cell_type": "code",
   "execution_count": 70,
   "metadata": {
    "collapsed": false,
    "slideshow": {
     "slide_type": "subslide"
    }
   },
   "outputs": [
    {
     "data": {
      "text/plain": [
       "'id'"
      ]
     },
     "execution_count": 70,
     "metadata": {},
     "output_type": "execute_result"
    }
   ],
   "source": [
    "# parameters\n",
    "uri_param = get_an_album.uri_params[0]\n",
    "uri_param.name"
   ]
  },
  {
   "cell_type": "code",
   "execution_count": 40,
   "metadata": {
    "collapsed": false,
    "slideshow": {
     "slide_type": "fragment"
    }
   },
   "outputs": [
    {
     "data": {
      "text/plain": [
       "True"
      ]
     },
     "execution_count": 40,
     "metadata": {},
     "output_type": "execute_result"
    }
   ],
   "source": [
    "uri_param.required"
   ]
  },
  {
   "cell_type": "code",
   "execution_count": 41,
   "metadata": {
    "collapsed": false,
    "slideshow": {
     "slide_type": "fragment"
    }
   },
   "outputs": [
    {
     "data": {
      "text/plain": [
       "'4aawyAB9vmqN3uQ7FjRGTy'"
      ]
     },
     "execution_count": 41,
     "metadata": {},
     "output_type": "execute_result"
    }
   ],
   "source": [
    "uri_param.example"
   ]
  },
  {
   "cell_type": "code",
   "execution_count": 42,
   "metadata": {
    "collapsed": false,
    "slideshow": {
     "slide_type": "fragment"
    }
   },
   "outputs": [
    {
     "data": {
      "text/plain": [
       "ResourceNode(method='get', path='/albums')"
      ]
     },
     "execution_count": 42,
     "metadata": {},
     "output_type": "execute_result"
    }
   ],
   "source": [
    "get_an_album.parent"
   ]
  },
  {
   "cell_type": "code",
   "execution_count": 71,
   "metadata": {
    "collapsed": false,
    "slideshow": {
     "slide_type": "subslide"
    }
   },
   "outputs": [
    {
     "data": {
      "text/plain": [
       "[TraitNode(name='filterable'), TraitNode(name='paged')]"
      ]
     },
     "execution_count": 71,
     "metadata": {},
     "output_type": "execute_result"
    }
   ],
   "source": [
    "# API traits\n",
    "api.traits"
   ]
  },
  {
   "cell_type": "code",
   "execution_count": 72,
   "metadata": {
    "collapsed": false,
    "slideshow": {
     "slide_type": "fragment"
    }
   },
   "outputs": [
    {
     "data": {
      "text/plain": [
       "[QueryParameter(name='limit'), QueryParameter(name='offset')]"
      ]
     },
     "execution_count": 72,
     "metadata": {},
     "output_type": "execute_result"
    }
   ],
   "source": [
    "paged = api.traits[1]\n",
    "paged.query_params"
   ]
  },
  {
   "cell_type": "code",
   "execution_count": 73,
   "metadata": {
    "collapsed": true,
    "slideshow": {
     "slide_type": "fragment"
    }
   },
   "outputs": [],
   "source": [
    "query_param = _[0]"
   ]
  },
  {
   "cell_type": "code",
   "execution_count": 74,
   "metadata": {
    "collapsed": false,
    "slideshow": {
     "slide_type": "fragment"
    }
   },
   "outputs": [
    {
     "data": {
      "text/plain": [
       "'limit'"
      ]
     },
     "execution_count": 74,
     "metadata": {},
     "output_type": "execute_result"
    }
   ],
   "source": [
    "query_param.name"
   ]
  },
  {
   "cell_type": "code",
   "execution_count": 75,
   "metadata": {
    "collapsed": false,
    "slideshow": {
     "slide_type": "fragment"
    }
   },
   "outputs": [
    {
     "data": {
      "text/plain": [
       "OrderedDict([('displayName', 'Limit'), ('description', 'The maximum number of track objects to return'), ('type', 'integer'), ('example', 10), ('minimum', 0), ('default', 20), ('maximum', 50), ('required', False)])"
      ]
     },
     "execution_count": 75,
     "metadata": {},
     "output_type": "execute_result"
    }
   ],
   "source": [
    "query_param.raw"
   ]
  },
  {
   "cell_type": "markdown",
   "metadata": {
    "slideshow": {
     "slide_type": "slide"
    }
   },
   "source": [
    "# fun from the command line"
   ]
  },
  {
   "cell_type": "markdown",
   "metadata": {
    "slideshow": {
     "slide_type": "subslide"
    }
   },
   "source": [
    "### validate your RAML file"
   ]
  },
  {
   "cell_type": "code",
   "execution_count": 81,
   "metadata": {
    "collapsed": false,
    "slideshow": {
     "slide_type": "fragment"
    }
   },
   "outputs": [
    {
     "name": "stdout",
     "output_type": "stream",
     "text": [
      "\u001b[32mSuccess! Valid RAML file: spotify-web-api.raml\u001b[0m\r\n"
     ]
    }
   ],
   "source": [
    "!ramlfications validate spotify-web-api.raml"
   ]
  },
  {
   "cell_type": "code",
   "execution_count": 82,
   "metadata": {
    "collapsed": false,
    "slideshow": {
     "slide_type": "subslide"
    }
   },
   "outputs": [
    {
     "name": "stdout",
     "output_type": "stream",
     "text": [
      "\u001b[31mError validating file invalid.raml: 'FTP' not a valid protocol for a RAML-defined API.\u001b[0m\r\n"
     ]
    }
   ],
   "source": [
    "!ramlfications validate invalid.raml"
   ]
  },
  {
   "cell_type": "markdown",
   "metadata": {
    "slideshow": {
     "slide_type": "subslide"
    }
   },
   "source": [
    "## Your API does in fact support FTP?\n",
    "\n",
    "Just add it to your config file!"
   ]
  },
  {
   "cell_type": "markdown",
   "metadata": {
    "slideshow": {
     "slide_type": "fragment"
    }
   },
   "source": [
    "```bash\n",
    "$ cat raml_config.ini\n",
    "```\n",
    "\n",
    "```ini\n",
    "[custom]\n",
    "protocols = FTP\n",
    "```\n"
   ]
  },
  {
   "cell_type": "code",
   "execution_count": 84,
   "metadata": {
    "collapsed": false,
    "slideshow": {
     "slide_type": "fragment"
    }
   },
   "outputs": [
    {
     "name": "stdout",
     "output_type": "stream",
     "text": [
      "\u001b[32mSuccess! Valid RAML file: invalid.raml\u001b[0m\r\n"
     ]
    }
   ],
   "source": [
    "!ramlfications validate --config raml_config.ini invalid.raml"
   ]
  },
  {
   "cell_type": "markdown",
   "metadata": {
    "slideshow": {
     "slide_type": "subslide"
    }
   },
   "source": [
    "### visualize your RAML file"
   ]
  },
  {
   "cell_type": "code",
   "execution_count": 76,
   "metadata": {
    "collapsed": false,
    "slideshow": {
     "slide_type": "subslide"
    }
   },
   "outputs": [
    {
     "name": "stdout",
     "output_type": "stream",
     "text": [
      "===============\r\n",
      "Spotify Web API\r\n",
      "===============\r\n",
      "Base URI: https://api.spotify.com/v1\r\n",
      "|- /albums\r\n",
      "|  - /albums/{id}\r\n",
      "|    - /albums/{id}/tracks\r\n",
      "|- /artists\r\n",
      "|  - /artists/{id}\r\n",
      "|    - /artists/{id}/top-tracks\r\n",
      "|    - /artists/{id}/related-artists\r\n",
      "|    - /artists/{id}/albums\r\n",
      "|- /tracks\r\n",
      "|  - /tracks/{id}\r\n",
      "|- /search\r\n",
      "|- /me\r\n",
      "|  - /me/tracks\r\n",
      "|  - /me/tracks\r\n",
      "|  - /me/tracks\r\n",
      "|    - /me/tracks/contains\r\n",
      "|- /users/{user_id}\r\n",
      "|- /users/{user_id}/playlists\r\n",
      "|- /users/{user_id}/playlists\r\n",
      "|  - /users/{user_id}/playlists/{playlist_id}\r\n",
      "|  - /users/{user_id}/playlists/{playlist_id}\r\n",
      "|    - /users/{user_id}/playlists/{playlist_id}/tracks\r\n",
      "|    - /users/{user_id}/playlists/{playlist_id}/tracks\r\n",
      "|    - /users/{user_id}/playlists/{playlist_id}/tracks\r\n",
      "|    - /users/{user_id}/playlists/{playlist_id}/tracks\r\n",
      "|    - /users/{user_id}/playlists/{playlist_id}/followers\r\n",
      "|    - /users/{user_id}/playlists/{playlist_id}/followers\r\n",
      "|      - /users/{user_id}/playlists/{playlist_id}/followers/contains\r\n",
      "|- /browse/new-releases\r",
      "\r\n",
      "|- /browse/featured-playlists\r\n",
      "|- /browse/categories\r\n",
      "|  - /browse/categories/{category_id}\r\n",
      "|    - /browse/categories/{category_id}/playlists\r\n",
      "|- /me/following\r\n",
      "|- /me/following\r\n",
      "|  - /me/following/contains\r\n"
     ]
    }
   ],
   "source": [
    "!ramlfications tree spotify-web-api.raml"
   ]
  },
  {
   "cell_type": "code",
   "execution_count": 78,
   "metadata": {
    "collapsed": false,
    "slideshow": {
     "slide_type": "subslide"
    }
   },
   "outputs": [
    {
     "name": "stdout",
     "output_type": "stream",
     "text": [
      "===============\r\n",
      "Spotify Web API\r\n",
      "===============\r\n",
      "Base URI: https://api.spotify.com/v1\r\n",
      "|- /albums\r\n",
      "|  ⌙ GET\r\n",
      "|  - /albums/{id}\r\n",
      "|    ⌙ GET\r\n",
      "|    - /albums/{id}/tracks\r\n",
      "|      ⌙ GET\r\n",
      "|- /artists\r\n",
      "|  ⌙ GET\r\n",
      "|  - /artists/{id}\r\n",
      "|    ⌙ GET\r\n",
      "|    - /artists/{id}/top-tracks\r\n",
      "|      ⌙ GET\r\n",
      "|    - /artists/{id}/related-artists\r\n",
      "|      ⌙ GET\r\n",
      "|    - /artists/{id}/albums\r\n",
      "|      ⌙ GET\r\n",
      "|- /tracks\r\n",
      "|  ⌙ GET\r\n",
      "|  - /tracks/{id}\r\n",
      "|    ⌙ GET\r\n",
      "|- /search\r\n",
      "|  ⌙ GET\r\n",
      "|- /me\r\n",
      "|  ⌙ GET\r\n",
      "|  - /me/tracks\r\n",
      "|    ⌙ GET\r\n",
      "|  - /me/tracks\r\n",
      "|    ⌙ PUT\r\n",
      "|  - /me/tracks\r\n",
      "|    ⌙ DELETE\r\n",
      "|    - /me/tracks/contains\r\n",
      "|      ⌙ GET\r\n",
      "|- /users/{user_id}\r\n",
      "|  ⌙ GET\r\n",
      "|- /users/{user_id}/playlists\r\n",
      "|  ⌙ GET\r\n",
      "|- /users/{user_id}/playlists\r\n",
      "|  ⌙ POST\r\n",
      "|  - /users/{user_id}/playlists/{playlist_id}\r\n",
      "|    ⌙ GET\r\n",
      "|  - /users/{user_id}/playlists/{playlist_id}\r\n",
      "|    ⌙ PUT\r\n",
      "|    - /users/{user_id}/playlists/{playlist_id}/tracks\r\n",
      "|      ⌙ GET\r\n",
      "|    - /users/{user_id}/playlists/{playlist_id}/tracks\r\n",
      "|      ⌙ POST\r\n",
      "|    - /users/{user_id}/playlists/{playlist_id}/tracks\r\n",
      "|      ⌙ PUT\r\n",
      "|    - /users/{user_id}/playlists/{playlist_id}/tracks\r\n",
      "|      ⌙ DELETE\r\n",
      "|    - /users/{user_id}/playlists/{playlist_id}/followers\r\n",
      "|      ⌙ PUT\r\n",
      "|    - /users/{user_id}/playlists/{playlist_id}/followers\r\n",
      "|      ⌙ DELETE\r\n",
      "|      - /users/{user_id}/playlists/{playlist_id}/followers/contains\r\n",
      "|        ⌙ GET\r\n",
      "|- /browse/new-releases\r\n",
      "|  ⌙ GET\r\n",
      "|- /browse/featured-playlists\r\n",
      "|  ⌙ GET\r\n",
      "|- /browse/categories\r\n",
      "|  ⌙ GET\r\n",
      "|  - /browse/categories/{category_id}\r\n",
      "|    ⌙ GET\r\n",
      "|    - /browse/categories/{category_id}/playlists\r\n",
      "|      ⌙ GET\r\n",
      "|- /me/following\r\n",
      "|  ⌙ PUT\r\n",
      "|- /me/following\r\n",
      "|  ⌙ DELETE\r\n",
      "|  - /me/following/contains\r\n",
      "|    ⌙ GET\r\n"
     ]
    }
   ],
   "source": [
    "# MOAR!\n",
    "!ramlfications tree spotify-web-api.raml -v"
   ]
  },
  {
   "cell_type": "code",
   "execution_count": 79,
   "metadata": {
    "collapsed": false,
    "slideshow": {
     "slide_type": "subslide"
    }
   },
   "outputs": [
    {
     "name": "stdout",
     "output_type": "stream",
     "text": [
      "===============\r\n",
      "Spotify Web API\r\n",
      "===============\r\n",
      "Base URI: https://api.spotify.com/v1\r\n",
      "|- /albums\r\n",
      "|  ⌙ GET\r\n",
      "|     Query Params\r\n",
      "|      ⌙ ids\r\n",
      "|      ⌙ market\r\n",
      "|  - /albums/{id}\r\n",
      "|    ⌙ GET\r\n",
      "|       Query Params\r\n",
      "|        ⌙ market\r\n",
      "|       URI Params\r\n",
      "|        ⌙ id\r\n",
      "|    - /albums/{id}/tracks\r\n",
      "|      ⌙ GET\r\n",
      "|         Query Params\r\n",
      "|          ⌙ limit\r\n",
      "|          ⌙ offset\r\n",
      "|          ⌙ market\r\n",
      "|         URI Params\r\n",
      "|          ⌙ id\r\n",
      "|- /artists\r\n",
      "|  ⌙ GET\r\n",
      "|     Query Params\r\n",
      "|      ⌙ ids\r\n",
      "|  - /artists/{id}\r\n",
      "|    ⌙ GET\r\n",
      "|       URI Params\r\n",
      "|        ⌙ id\r\n",
      "|    - /artists/{id}/top-tracks\r\n",
      "|      ⌙ GET\r\n",
      "|         Query Params\r\n",
      "|          ⌙ country\r\n",
      "|         URI Params\r\n",
      "|          ⌙ id\r\n",
      "|    - /artists/{id}/related-artists\r\n",
      "|      ⌙ GET\r\n",
      "|         URI Params\r\n",
      "|          ⌙ id\r\n",
      "|    - /artists/{id}/albums\r\n",
      "|      ⌙ GET\r\n",
      "|         Query Params\r\n",
      "|          ⌙ limit\r\n",
      "|          ⌙ offset\r\n",
      "|          ⌙ album_type\r\n",
      "|          ⌙ market\r\n",
      "|         URI Params\r\n",
      "|          ⌙ id\r\n",
      "|- /tracks\r\n",
      "|  ⌙ GET\r\n",
      "|     Query Params\r\n",
      "|      ⌙ ids\r\n",
      "|      ⌙ market\r\n",
      "|  - /tracks/{id}\r\n",
      "|    ⌙ GET\r\n",
      "|       Query Params\r\n",
      "|        ⌙ market\r\n",
      "|       URI Params\r\n",
      "|        ⌙ id\r\n",
      "|- /search\r\n",
      "|  ⌙ GET\r\n",
      "|     Query Params\r\n",
      "|      ⌙ limit\r\n",
      "|      ⌙ offset\r\n",
      "|      ⌙ q\r\n",
      "|      ⌙ type\r\n",
      "|      ⌙ market\r\n",
      "|- /me\r\n",
      "|  ⌙ GET\r\n",
      "|  - /me/tracks\r\n",
      "|    ⌙ GET\r\n",
      "|       Query Params\r\n",
      "|        ⌙ limit\r\n",
      "|        ⌙ offset\r\n",
      "|        ⌙ market\r\n",
      "|  - /me/tracks\r\n",
      "|    ⌙ PUT\r\n",
      "|       Query Params\r\n",
      "|        ⌙ ids\r\n",
      "|  - /me/tracks\r\n",
      "|    ⌙ DELETE\r\n",
      "|       Query Params\r\n",
      "|        ⌙ ids\r\n",
      "|    - /me/tracks/contains\r\n",
      "|      ⌙ GET\r\n",
      "|         Query Params\r\n",
      "|          ⌙ ids\r\n",
      "|- /users/{user_id}\r\n",
      "|  ⌙ GET\r\n",
      "|     URI Params\r\n",
      "|      ⌙ user_id\r\n",
      "|- /users/{user_id}/playlists\r\n",
      "|  ⌙ GET\r\n",
      "|     Query Params\r\n",
      "|      ⌙ limit\r\n",
      "|      ⌙ offset\r\n",
      "|     URI Params\r\n",
      "|      ⌙ user_id\r\n",
      "|- /users/{user_id}/playlists\r\n",
      "|  ⌙ POST\r\n",
      "|     URI Params\r\n",
      "|      ⌙ user_id\r\n",
      "|  - /users/{user_id}/playlists/{playlist_id}\r\n",
      "|    ⌙ GET\r\n",
      "|       Query Params\r\n",
      "|        ⌙ fields\r\n",
      "|       URI Params\r\n",
      "|        ⌙ playlist_id\r\n",
      "|        ⌙ user_id\r\n",
      "|  - /users/{user_id}/playlists/{playlist_id}\r\n",
      "|    ⌙ PUT\r\n",
      "|       URI Params\r\n",
      "|        ⌙ playlist_id\r\n",
      "|        ⌙ user_id\r\n",
      "|    - /users/{user_id}/playlists/{playlist_id}/tracks\r\n",
      "|      ⌙ GET\r\n",
      "|         Query Params\r\n",
      "|          ⌙ fields\r\n",
      "|          ⌙ limit\r\n",
      "|          ⌙ offset\r\n",
      "|          ⌙ market\r\n",
      "|         URI Params\r\n",
      "|          ⌙ playlist_id\r\n",
      "|          ⌙ user_id\r\n",
      "|    - /users/{user_id}/playlists/{playlist_id}/tracks\r\n",
      "|      ⌙ POST\r\n",
      "|         Query Params\r\n",
      "|          ⌙ position\r\n",
      "|          ⌙ uris\r\n",
      "|         URI Params\r\n",
      "|          ⌙ playlist_id\r\n",
      "|          ⌙ user_id\r\n",
      "|    - /users/{user_id}/playlists/{playlist_id}/tracks\r\n",
      "|      ⌙ PUT\r\n",
      "|         URI Params\r\n",
      "|          ⌙ playlist_id\r\n",
      "|          ⌙ user_id\r\n",
      "|    - /users/{user_id}/playlists/{playlist_id}/tracks\r\n",
      "|      ⌙ DELETE\r\n",
      "|         URI Params\r\n",
      "|          ⌙ playlist_id\r\n",
      "|          ⌙ user_id\r\n",
      "|    - /users/{user_id}/playlists/{playlist_id}/followers\r\n",
      "|      ⌙ PUT\r\n",
      "|         URI Params\r\n",
      "|          ⌙ playlist_id\r\n",
      "|          ⌙ user_id\r\n",
      "|    - /users/{user_id}/playlists/{playlist_id}/followers\r\n",
      "|      ⌙ DELETE\r\n",
      "|         URI Params\r\n",
      "|          ⌙ playlist_id\r\n",
      "|          ⌙ user_id\r\n",
      "|      - /users/{user_id}/playlists/{playlist_id}/followers/contains\r\n",
      "|        ⌙ GET\r\n",
      "|           Query Params\r\n",
      "|            ⌙ ids\r\n",
      "|           URI Params\r\n",
      "|            ⌙ playlist_id\r\n",
      "|            ⌙ user_id\r\n",
      "|- /browse/new-releases\r\n",
      "|  ⌙ GET\r\n",
      "|     Query Params\r\n",
      "|      ⌙ limit\r\n",
      "|      ⌙ offset\r\n",
      "|      ⌙ country\r\n",
      "|- /browse/featured-playlists\r\n",
      "|  ⌙ GET\r\n",
      "|     Query Params\r\n",
      "|      ⌙ limit\r\n",
      "|      ⌙ offset\r\n",
      "|      ⌙ country\r\n",
      "|      ⌙ locale\r\n",
      "|      ⌙ timestamp\r\n",
      "|- /browse/categories\r\n",
      "|  ⌙ GET\r\n",
      "|     Query Params\r\n",
      "|      ⌙ country\r\n",
      "|      ⌙ locale\r\n",
      "|      ⌙ limit\r\n",
      "|      ⌙ offset\r\n",
      "|  - /browse/categories/{category_id}\r\n",
      "|    ⌙ GET\r\n",
      "|       Query Params\r\n",
      "|        ⌙ country\r\n",
      "|        ⌙ locale\r\n",
      "|       URI Params\r\n",
      "|        ⌙ category_id\r\n",
      "|    - /browse/categories/{category_id}/playlists\r\n",
      "|      ⌙ GET\r\n",
      "|         Query Params\r\n",
      "|          ⌙ country\r\n",
      "|          ⌙ limit\r\n",
      "|          ⌙ offset\r\n",
      "|         URI Params\r\n",
      "|          ⌙ category_id\r\n",
      "|- /me/following\r\n",
      "|  ⌙ PUT\r\n",
      "|     Query Params\r\n",
      "|      ⌙ type\r\n",
      "|      ⌙ ids\r\n",
      "|- /me/following\r\n",
      "|  ⌙ DELETE\r\n",
      "|     Query Params\r\n",
      "|      ⌙ type\r\n",
      "|      ⌙ ids\r\n",
      "|  - /me/following/contains\r\n",
      "|    ⌙ GET\r\n",
      "|       Query Params\r\n",
      "|        ⌙ type\r\n",
      "|        ⌙ ids\r\n"
     ]
    }
   ],
   "source": [
    "# I want MOAR\n",
    "!ramlfications tree spotify-web-api.raml -vv"
   ]
  },
  {
   "cell_type": "code",
   "execution_count": 80,
   "metadata": {
    "collapsed": false,
    "slideshow": {
     "slide_type": "subslide"
    }
   },
   "outputs": [
    {
     "name": "stdout",
     "output_type": "stream",
     "text": [
      "===============\n",
      "Spotify Web API\n",
      "===============\n",
      "Base URI: https://api.spotify.com/v1\n",
      "|- /albums\n",
      "|  ⌙ GET\n",
      "|     Query Params\n",
      "|      ⌙ ids: Spotify Album IDs\n",
      "|      ⌙ market: Market\n",
      "|  - /albums/{id}\n",
      "|    ⌙ GET\n",
      "|       Query Params\n",
      "|        ⌙ market: Market\n",
      "|       URI Params\n",
      "|        ⌙ id: Spotify Album ID\n",
      "|    - /albums/{id}/tracks\n",
      "|      ⌙ GET\n",
      "|         Query Params\n",
      "|          ⌙ limit: Limit\n",
      "|          ⌙ offset: Offset\n",
      "|          ⌙ market: Market\n",
      "|         URI Params\n",
      "|          ⌙ id: Spotify Album ID\n",
      "|- /artists\n",
      "|  ⌙ GET\n",
      "|     Query Params\n",
      "|      ⌙ ids: Spotify Artist IDs\n",
      "|  - /artists/{id}\n",
      "|    ⌙ GET\n",
      "|       URI Params\n",
      "|        ⌙ id: Spotify Artist ID\n",
      "|    - /artists/{id}/top-tracks\n",
      "|      ⌙ GET\n",
      "|         Query Params\n",
      "|          ⌙ country: Country\n",
      "|         URI Params\n",
      "|          ⌙ id: Spotify Artist ID\n",
      "|    - /artists/{id}/related-artists\n",
      "|      ⌙ GET\n",
      "|         URI Params\n",
      "|          ⌙ id: Spotify Artist ID\n",
      "|    - /artists/{id}/albums\n",
      "|      ⌙ GET\n",
      "|         Query Params\n",
      "|          ⌙ limit: Limit\n",
      "|          ⌙ offset: Offset\n",
      "|          ⌙ album_type: Album Type (single, album, appears_on, compilation)\n",
      "|          ⌙ market: Market\n",
      "|         URI Params\n",
      "|          ⌙ id: Spotify Artist ID\n",
      "|- /tracks\n",
      "|  ⌙ GET\n",
      "|     Query Params\n",
      "|      ⌙ ids: Spotify Track IDs\n",
      "|      ⌙ market: Market\n",
      "|  - /tracks/{id}\n",
      "|    ⌙ GET\n",
      "|       Query Params\n",
      "|        ⌙ market: Market\n",
      "|       URI Params\n",
      "|        ⌙ id: Spotify Track ID\n",
      "|- /search\n",
      "|  ⌙ GET\n",
      "|     Query Params\n",
      "|      ⌙ limit: Limit\n",
      "|      ⌙ offset: Offset\n",
      "|      ⌙ q: Query\n",
      "|      ⌙ type: Item Type (album, artist, track, playlist)\n",
      "|      ⌙ market: Market\n",
      "|- /me\n",
      "|  ⌙ GET\n",
      "|  - /me/tracks\n",
      "|    ⌙ GET\n",
      "|       Query Params\n",
      "|        ⌙ limit: Limit\n",
      "|        ⌙ offset: Offset\n",
      "|        ⌙ market: Market\n",
      "|  - /me/tracks\n",
      "|    ⌙ PUT\n",
      "|       Query Params\n",
      "|        ⌙ ids: Spotify Track IDs\n",
      "|  - /me/tracks\n",
      "|    ⌙ DELETE\n",
      "|       Query Params\n",
      "|        ⌙ ids: Spotify Track IDs\n",
      "|    - /me/tracks/contains\n",
      "|      ⌙ GET\n",
      "|         Query Params\n",
      "|          ⌙ ids: Spotify Track IDs\n",
      "|- /users/{user_id}\n",
      "|  ⌙ GET\n",
      "|     URI Params\n",
      "|      ⌙ user_id: User ID\n",
      "|- /users/{user_id}/playlists\n",
      "|  ⌙ GET\n",
      "|     Query Params\n",
      "|      ⌙ limit: Limit\n",
      "|      ⌙ offset: Offset\n",
      "|     URI Params\n",
      "|      ⌙ user_id: Owner ID\n",
      "|- /users/{user_id}/playlists\n",
      "|  ⌙ POST\n",
      "|     URI Params\n",
      "|      ⌙ user_id: Owner ID\n",
      "|  - /users/{user_id}/playlists/{playlist_id}\n",
      "|    ⌙ GET\n",
      "|       Query Params\n",
      "|        ⌙ fields: Fields\n",
      "|       URI Params\n",
      "|        ⌙ playlist_id: Playlist ID\n",
      "|        ⌙ user_id: Owner ID\n",
      "|  - /users/{user_id}/playlists/{playlist_id}\n",
      "|    ⌙ PUT\n",
      "|       URI Params\n",
      "|        ⌙ playlist_id: Playlist ID\n",
      "|        ⌙ user_id: Owner ID\n",
      "|    - /users/{user_id}/playlists/{playlist_id}/tracks\n",
      "|      ⌙ GET\n",
      "|         Query Params\n",
      "|          ⌙ fields: Fields\n",
      "|          ⌙ limit: Limit\n",
      "|          ⌙ offset: Offset\n",
      "|          ⌙ market: Market\n",
      "|         URI Params\n",
      "|          ⌙ playlist_id: Playlist ID\n",
      "|          ⌙ user_id: Owner ID\n",
      "|    - /users/{user_id}/playlists/{playlist_id}/tracks\n",
      "|      ⌙ POST\n",
      "|         Query Params\n",
      "|          ⌙ position: Position (append by default)\n",
      "|          ⌙ uris: Spotify Track URIs\n",
      "|         URI Params\n",
      "|          ⌙ playlist_id: Playlist ID\n",
      "|          ⌙ user_id: Owner ID\n",
      "|    - /users/{user_id}/playlists/{playlist_id}/tracks\n",
      "|      ⌙ PUT\n",
      "|         URI Params\n",
      "|          ⌙ playlist_id: Playlist ID\n",
      "|          ⌙ user_id: Owner ID\n",
      "|    - /users/{user_id}/playlists/{playlist_id}/tracks\n",
      "|      ⌙ DELETE\n",
      "|         URI Params\n",
      "|          ⌙ playlist_id: Playlist ID\n",
      "|          ⌙ user_id: Owner ID\n",
      "|    - /users/{user_id}/playlists/{playlist_id}/followers\n",
      "|      ⌙ PUT\n",
      "|         URI Params\n",
      "|          ⌙ playlist_id: Playlist ID\n",
      "|          ⌙ user_id: Owner ID\n",
      "|    - /users/{user_id}/playlists/{playlist_id}/followers\n",
      "|      ⌙ DELETE\n",
      "|         URI Params\n",
      "|          ⌙ playlist_id: Playlist ID\n",
      "|          ⌙ user_id: Owner ID\n",
      "|      - /users/{user_id}/playlists/{playlist_id}/followers/contains\n",
      "|        ⌙ GET\n",
      "|           Query Params\n",
      "|            ⌙ ids: Spotify user IDs\n",
      "|           URI Params\n",
      "|            ⌙ playlist_id: Playlist ID\n",
      "|            ⌙ user_id: Owner ID\n",
      "|- /browse/new-releases\n",
      "|  ⌙ GET\n",
      "|     Query Params\n",
      "|      ⌙ limit: Limit\n",
      "|      ⌙ offset: Offset\n",
      "|      ⌙ country: Country\n",
      "|- /browse/featured-playlists\n",
      "|  ⌙ GET\n",
      "|     Query Params\n",
      "|      ⌙ limit: Limit\n",
      "|      ⌙ offset: Offset\n",
      "|      ⌙ country: Country\n",
      "|      ⌙ locale: Locale\n",
      "|      ⌙ timestamp: Timestamp\n",
      "|- /browse/categories\n",
      "|  ⌙ GET\n",
      "|     Query Params\n",
      "|      ⌙ country: Country\n",
      "|      ⌙ locale: Locale\n",
      "|      ⌙ limit: Limit\n",
      "|      ⌙ offset: Offset\n",
      "|  - /browse/categories/{category_id}\n",
      "|    ⌙ GET\n",
      "|       Query Params\n",
      "|        ⌙ country: Country\n",
      "|        ⌙ locale: Locale\n",
      "|       URI Params\n",
      "|        ⌙ category_id: Category ID\n",
      "|    - /browse/categories/{category_id}/playlists\n",
      "|      ⌙ GET\n",
      "|         Query Params\n",
      "|          ⌙ country: Country\n",
      "|          ⌙ limit: Limit\n",
      "|          ⌙ offset: Offset\n",
      "|         URI Params\n",
      "|          ⌙ category_id: Category ID\n",
      "|- /me/following\n",
      "|  ⌙ PUT\n",
      "|     Query Params\n",
      "|      ⌙ type: Item Type\n",
      "|      ⌙ ids: Spotify IDs\n",
      "|- /me/following\n",
      "|  ⌙ DELETE\n",
      "|     Query Params\n",
      "|      ⌙ type: Item Type\n",
      "|      ⌙ ids: Spotify IDs\n",
      "|  - /me/following/contains\n",
      "|    ⌙ GET\n",
      "|       Query Params\n",
      "|        ⌙ type: Item Type\n",
      "|        ⌙ ids: Spotify IDs\n"
     ]
    }
   ],
   "source": [
    "# I WANT MOOOOARRRRR\n",
    "!ramlfications tree spotify-web-api.raml -vvv"
   ]
  },
  {
   "cell_type": "markdown",
   "metadata": {
    "slideshow": {
     "slide_type": "slide"
    }
   },
   "source": [
    "# What's next?"
   ]
  },
  {
   "cell_type": "markdown",
   "metadata": {
    "slideshow": {
     "slide_type": "fragment"
    }
   },
   "source": [
    "Coming soon: "
   ]
  },
  {
   "cell_type": "markdown",
   "metadata": {
    "slideshow": {
     "slide_type": "fragment"
    }
   },
   "source": [
    "* Documentation generator based off of RAML"
   ]
  },
  {
   "cell_type": "markdown",
   "metadata": {
    "slideshow": {
     "slide_type": "fragment"
    }
   },
   "source": [
    "* API console"
   ]
  },
  {
   "cell_type": "markdown",
   "metadata": {
    "slideshow": {
     "slide_type": "slide"
    }
   },
   "source": [
    "# FIN\n",
    "\n",
    "### Docs: ramlfications.readthedocs.org\n",
    "### Code: github.com/spotify/ramlfications\n",
    "### Slides: rogue.ly/ramlfications\n",
    "\n",
    "### Thanks!"
   ]
  }
 ],
 "metadata": {
  "celltoolbar": "Slideshow",
  "kernelspec": {
   "display_name": "Python 2",
   "language": "python",
   "name": "python2"
  },
  "language_info": {
   "codemirror_mode": {
    "name": "ipython",
    "version": 2
   },
   "file_extension": ".py",
   "mimetype": "text/x-python",
   "name": "python",
   "nbconvert_exporter": "python",
   "pygments_lexer": "ipython2",
   "version": "2.7.8"
  }
 },
 "nbformat": 4,
 "nbformat_minor": 0
}
